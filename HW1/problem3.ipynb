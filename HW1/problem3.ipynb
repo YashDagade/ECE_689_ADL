{
 "cells": [
  {
   "cell_type": "code",
   "execution_count": 10,
   "metadata": {},
   "outputs": [],
   "source": [
    "import math\n",
    "import torch\n",
    "import torch.nn as nn\n",
    "import torch.nn.functional as F\n",
    "import torch.optim as optim\n",
    "from torch.utils.data import DataLoader\n",
    "from torchvision import datasets, transforms\n",
    "import matplotlib.pyplot as plt\n",
    "import numpy as np\n",
    "from tqdm import tqdm"
   ]
  },
  {
   "cell_type": "code",
   "execution_count": 11,
   "metadata": {},
   "outputs": [
    {
     "name": "stdout",
     "output_type": "stream",
     "text": [
      "Using device: mps\n"
     ]
    }
   ],
   "source": [
    "\n",
    "DEVICE = torch.device('cuda' if torch.cuda.is_available() else 'mps' if torch.backends.mps.is_available() else 'cpu')\n",
    "BATCH_SIZE = 64\n",
    "EPOCHS = 5\n",
    "LR = 1e-3\n",
    "NUM_TRAIN = 7291   # USPS train set size (approx)\n",
    "IMAGE_SIZE = 16    # USPS images are 16x16\n",
    "CHANNELS = 1       # USPS is grayscale\n",
    "\n",
    "print(\"Using device:\", DEVICE)"
   ]
  },
  {
   "cell_type": "code",
   "execution_count": 12,
   "metadata": {},
   "outputs": [],
   "source": [
    "\n",
    "class EnergyModel(nn.Module):\n",
    "    \"\"\"\n",
    "    A deeper CNN to map [B,1,16,16] -> scalar energy [B].\n",
    "    Feel free to expand or deepen further for better fidelity.\n",
    "    \"\"\"\n",
    "    def __init__(self):\n",
    "        super().__init__()\n",
    "        # example: 3 conv layers => global average => final linear\n",
    "        self.conv1 = nn.Conv2d(CHANNELS, 32, kernel_size=3, padding=1)\n",
    "        self.conv2 = nn.Conv2d(32, 64, kernel_size=3, padding=1)\n",
    "        self.conv3 = nn.Conv2d(64, 128, kernel_size=3, padding=1)\n",
    "        # final linear maps 128 -> 1, but we do a global average in forward\n",
    "        self.fc = nn.Linear(128, 1, bias=False)\n",
    "\n",
    "    def forward(self, x):\n",
    "        # x shape: [B,1,16,16]\n",
    "        h = F.relu(self.conv1(x))   # [B,32,16,16]\n",
    "        h = F.relu(self.conv2(h))   # [B,64,16,16]\n",
    "        h = F.relu(self.conv3(h))   # [B,128,16,16]\n",
    "        # global average pool => [B,128]\n",
    "        h = h.mean(dim=[2,3])       # average over H,W\n",
    "        # final linear => [B]\n",
    "        out = self.fc(h).squeeze(-1)\n",
    "        return out  # E(x) : lower => higher probability\n",
    "\n",
    "\n",
    "\n",
    "class GibbsSampler:\n",
    "    \"\"\"\n",
    "    Single-site Gibbs for binary images in {0,1}.\n",
    "    We update each pixel in raster order for 'steps' full sweeps.\n",
    "    \"\"\"\n",
    "    def __init__(self, model: nn.Module):\n",
    "        self.model = model\n",
    "\n",
    "    @torch.no_grad()\n",
    "    def sample(self, x0: torch.Tensor, steps: int = 10) -> torch.Tensor:\n",
    "        \"\"\"\n",
    "        x0: [B,1,H,W], values in {0,1}\n",
    "        steps: number of full sweeps over all pixels\n",
    "        \"\"\"\n",
    "        self.model.eval()\n",
    "        x = x0.clone().detach().to(DEVICE)\n",
    "        B, C, H, W = x.shape\n",
    "        for _ in range(steps):\n",
    "            for r in range(H):\n",
    "                for c in range(W):\n",
    "                    # Evaluate E if pixel=0\n",
    "                    x[:, 0, r, c] = 0.\n",
    "                    e0 = self.model(x)\n",
    "                    # Evaluate E if pixel=1\n",
    "                    x[:, 0, r, c] = 1.\n",
    "                    e1 = self.model(x)\n",
    "\n",
    "                    # Probability pixel=1 ~ sigm(-(e1 - e0)) = 1 / [1+exp(e1 - e0)]\n",
    "                    p1 = torch.sigmoid(-(e1 - e0))\n",
    "                    coin = torch.rand_like(p1)\n",
    "                    new_val = (coin < p1).float()\n",
    "                    x[:, 0, r, c] = new_val\n",
    "        return x\n",
    "\n",
    "\n",
    "class LangevinSampler:\n",
    "    \"\"\"\n",
    "    Overdamped Langevin MCMC for continuous [0..1] images.\n",
    "    x_{t+1} = x_t - 0.5 * step_size * grad(E) + sqrt(step_size)*noise\n",
    "    Then clamp to [0,1].\n",
    "    \"\"\"\n",
    "    def __init__(self, model: nn.Module, step_size: float = 0.02, clip: bool=True):\n",
    "        self.model = model\n",
    "        self.step_size = step_size\n",
    "        self.clip = clip\n",
    "\n",
    "    def sample(self, x0: torch.Tensor, steps: int = 10) -> torch.Tensor:\n",
    "        \"\"\"\n",
    "        x0: [B,1,H,W], float in [0,1]\n",
    "        steps: number of langevin steps\n",
    "        \"\"\"\n",
    "        self.model.eval()\n",
    "\n",
    "        x = x0.clone().detach().to(DEVICE)\n",
    "        x.requires_grad_(True)\n",
    "\n",
    "        for _ in range(steps):\n",
    "            energy = self.model(x).sum()\n",
    "            energy.backward()\n",
    "\n",
    "            with torch.no_grad():\n",
    "                grad = x.grad\n",
    "                x.data = x.data - 0.5 * self.step_size * grad\n",
    "                x.data += math.sqrt(self.step_size) * torch.randn_like(x)\n",
    "                if self.clip:\n",
    "                    x.data.clamp_(0., 1.)\n",
    "\n",
    "            x.grad.zero_()\n",
    "\n",
    "        x.requires_grad_(False)\n",
    "        return x.detach()\n",
    "\n",
    "\n",
    "\n",
    "\n",
    "class PersistentBuffer:\n",
    "    \"\"\"\n",
    "    Replay buffer that holds negative samples across epochs (PCD).\n",
    "    \"\"\"\n",
    "    def __init__(self, size, shape, is_binary=False, device=DEVICE):\n",
    "        \"\"\"\n",
    "        size: total number of samples to hold\n",
    "        shape: (C,H,W) of an image\n",
    "        is_binary: if True, round init to {0,1}\n",
    "        \"\"\"\n",
    "        self.size = size\n",
    "        self.is_binary = is_binary\n",
    "        self.device = device\n",
    "        # init random\n",
    "        x = torch.rand(size, *shape, device=device)\n",
    "        if is_binary:\n",
    "            x = (x > 0.5).float()\n",
    "        self.buffer = x\n",
    "\n",
    "    def get(self, batch_size):\n",
    "        idx = torch.randint(0, self.size, (batch_size,), device=self.device)\n",
    "        return self.buffer[idx].clone(), idx\n",
    "\n",
    "    def put(self, x_new, idx):\n",
    "        self.buffer[idx] = x_new\n"
   ]
  },
  {
   "cell_type": "code",
   "execution_count": 13,
   "metadata": {},
   "outputs": [],
   "source": [
    "def train_ebm(model, loader, optimizer, buffer, sampler, mcmc_steps=10, epochs=10):\n",
    "    \"\"\"\n",
    "    We train by maximizing log-likelihood via naive gradient:\n",
    "       d/dtheta [E_data(E(x)) - E_neg(E(x_neg))]\n",
    "    With persistent replay of x_neg (PCD).\n",
    "    \"\"\"\n",
    "    model.to(DEVICE)\n",
    "    model.train()\n",
    "\n",
    "    for epoch in range(1, epochs+1):\n",
    "        total_loss = 0.0\n",
    "        total_samples = 0\n",
    "\n",
    "        pbar = tqdm(loader, desc=f\"Epoch {epoch}/{epochs}\", leave=False)\n",
    "        for real_x, _ in pbar:\n",
    "            real_x = real_x.to(DEVICE)\n",
    "            B = real_x.size(0)\n",
    "\n",
    "            # E_pos\n",
    "            E_pos = model(real_x).mean()\n",
    "\n",
    "            # get negative from buffer\n",
    "            x_neg, idx = buffer.get(B)\n",
    "\n",
    "            # MCMC update\n",
    "            x_neg = sampler.sample(x_neg, steps=mcmc_steps)\n",
    "\n",
    "            # put back\n",
    "            buffer.put(x_neg, idx)\n",
    "\n",
    "            # E_neg\n",
    "            E_neg = model(x_neg).mean()\n",
    "\n",
    "            loss = E_pos - E_neg\n",
    "            optimizer.zero_grad()\n",
    "            loss.backward()\n",
    "            optimizer.step()\n",
    "\n",
    "            total_loss += loss.item() * B\n",
    "            total_samples += B\n",
    "\n",
    "        avg_loss = total_loss / total_samples\n",
    "        print(f\"[Epoch {epoch}/{epochs}] Avg Loss = {avg_loss:.4f}\")\n",
    "\n",
    "\n",
    "\n",
    "@torch.no_grad()\n",
    "def show_images_grid(tensor_images, nrow=8, title=\"Samples\"):\n",
    "    import math\n",
    "    import matplotlib.pyplot as plt\n",
    "    from torchvision.utils import make_grid\n",
    "\n",
    "    tensor_images = tensor_images[:(nrow*nrow)]\n",
    "    grid = make_grid(tensor_images.cpu(), nrow=nrow, padding=2, pad_value=1.0)\n",
    "    npgrid = grid.permute(1,2,0).numpy()\n",
    "\n",
    "    plt.figure(figsize=(nrow, nrow))\n",
    "    if npgrid.shape[-1] == 1:\n",
    "        plt.imshow(npgrid[...,0], cmap='gray', vmin=0, vmax=1)\n",
    "    else:\n",
    "        plt.imshow(npgrid)\n",
    "    plt.title(title)\n",
    "    plt.axis('off')\n",
    "    plt.show()\n",
    "\n",
    "\n",
    "\n",
    "\n",
    "    print(\"Using device:\", DEVICE)\n"
   ]
  },
  {
   "cell_type": "code",
   "execution_count": 6,
   "metadata": {},
   "outputs": [
    {
     "name": "stdout",
     "output_type": "stream",
     "text": [
      "Using device: mps\n",
      "Using device: mps\n",
      "\n",
      "--- EBM (Binary, Gibbs) ---\n"
     ]
    },
    {
     "name": "stderr",
     "output_type": "stream",
     "text": [
      "                                                            \r"
     ]
    },
    {
     "name": "stdout",
     "output_type": "stream",
     "text": [
      "[Epoch 1/5] Avg Loss = -7.6217\n"
     ]
    },
    {
     "name": "stderr",
     "output_type": "stream",
     "text": [
      "                                                            \r"
     ]
    },
    {
     "name": "stdout",
     "output_type": "stream",
     "text": [
      "[Epoch 2/5] Avg Loss = -5.8318\n"
     ]
    },
    {
     "name": "stderr",
     "output_type": "stream",
     "text": [
      "                                                            \r"
     ]
    },
    {
     "name": "stdout",
     "output_type": "stream",
     "text": [
      "[Epoch 3/5] Avg Loss = -3.8487\n"
     ]
    },
    {
     "name": "stderr",
     "output_type": "stream",
     "text": [
      "                                                            \r"
     ]
    },
    {
     "name": "stdout",
     "output_type": "stream",
     "text": [
      "[Epoch 4/5] Avg Loss = -1.9672\n"
     ]
    },
    {
     "name": "stderr",
     "output_type": "stream",
     "text": [
      "                                                            \r"
     ]
    },
    {
     "name": "stdout",
     "output_type": "stream",
     "text": [
      "[Epoch 5/5] Avg Loss = -1.2572\n"
     ]
    },
    {
     "data": {
      "image/png": "[encoded data removed]",
      "text/plain": [
       "<Figure size 800x800 with 1 Axes>"
      ]
     },
     "metadata": {},
     "output_type": "display_data"
    },
    {
     "name": "stdout",
     "output_type": "stream",
     "text": [
      "\n",
      "--- EBM (Continuous, Langevin) ---\n"
     ]
    },
    {
     "name": "stderr",
     "output_type": "stream",
     "text": [
      "                                                            \r"
     ]
    },
    {
     "name": "stdout",
     "output_type": "stream",
     "text": [
      "[Epoch 1/5] Avg Loss = -41.3078\n"
     ]
    },
    {
     "name": "stderr",
     "output_type": "stream",
     "text": [
      "                                                            \r"
     ]
    },
    {
     "name": "stdout",
     "output_type": "stream",
     "text": [
      "[Epoch 2/5] Avg Loss = -21077.0896\n"
     ]
    },
    {
     "name": "stderr",
     "output_type": "stream",
     "text": [
      "                                                            \r"
     ]
    },
    {
     "name": "stdout",
     "output_type": "stream",
     "text": [
      "[Epoch 3/5] Avg Loss = -723529.6296\n"
     ]
    },
    {
     "name": "stderr",
     "output_type": "stream",
     "text": [
      "                                                            \r"
     ]
    },
    {
     "name": "stdout",
     "output_type": "stream",
     "text": [
      "[Epoch 4/5] Avg Loss = -4593981.0942\n"
     ]
    },
    {
     "name": "stderr",
     "output_type": "stream",
     "text": [
      "                                                            \r"
     ]
    },
    {
     "name": "stdout",
     "output_type": "stream",
     "text": [
      "[Epoch 5/5] Avg Loss = -15642771.5627\n"
     ]
    },
    {
     "data": {
      "image/png": "[encoded data removed]",
      "text/plain": [
       "<Figure size 800x800 with 1 Axes>"
      ]
     },
     "metadata": {},
     "output_type": "display_data"
    }
   ],
   "source": [
    "\n",
    "\n",
    "transform_bin = transforms.Compose([\n",
    "    transforms.ToTensor(),\n",
    "    transforms.Lambda(lambda x: (x>0.5).float()),\n",
    "])\n",
    "transform_flt = transforms.ToTensor()\n",
    "\n",
    "train_data_bin = datasets.USPS(root='.', train=True, download=True, transform=transform_bin)\n",
    "train_data_flt = datasets.USPS(root='.', train=True, download=True, transform=transform_flt)\n",
    "\n",
    "loader_bin = DataLoader(train_data_bin, batch_size=BATCH_SIZE, shuffle=True)\n",
    "loader_flt = DataLoader(train_data_flt, batch_size=BATCH_SIZE, shuffle=True)\n",
    "\n",
    "\n",
    "print(\"\\n--- EBM (Binary, Gibbs) ---\")\n",
    "model_gibbs = EnergyModel()\n",
    "optimizer_gibbs = optim.Adam(model_gibbs.parameters(), lr=LR)\n",
    "\n",
    "# persistent buffer for binarized images\n",
    "buffer_bin = PersistentBuffer(\n",
    "    size=NUM_TRAIN, shape=(1,IMAGE_SIZE,IMAGE_SIZE),\n",
    "    is_binary=True, device=DEVICE\n",
    ")\n",
    "gibbs_sampler = GibbsSampler(model_gibbs)\n",
    "\n",
    "# Train with only 4 GIBBS sweeps per batch iteration\n",
    "train_ebm(\n",
    "    model=model_gibbs,\n",
    "    loader=loader_bin,\n",
    "    optimizer=optimizer_gibbs,\n",
    "    buffer=buffer_bin,\n",
    "    sampler=gibbs_sampler,\n",
    "    mcmc_steps=4,   # <-- Reduced from 10 to 4\n",
    "    epochs=EPOCHS\n",
    ")\n",
    "\n",
    "# Final sampling from random {0,1}, but more steps for better mixing\n",
    "init_x = (torch.rand(64,1,IMAGE_SIZE,IMAGE_SIZE) > 0.5).float()\n",
    "samples_bin = gibbs_sampler.sample(init_x, steps=50)\n",
    "show_images_grid(samples_bin, nrow=8, title=\"Gibbs EBM Samples\")\n",
    "\n",
    "\n",
    "print(\"\\n--- EBM (Continuous, Langevin) ---\")\n",
    "model_lang = EnergyModel()\n",
    "optimizer_lang = optim.Adam(model_lang.parameters(), lr=LR)\n",
    "\n",
    "buffer_flt = PersistentBuffer(\n",
    "    size=NUM_TRAIN, shape=(1,IMAGE_SIZE,IMAGE_SIZE),\n",
    "    is_binary=False, device=DEVICE\n",
    ")\n",
    "langevin_sampler = LangevinSampler(model_lang, step_size=0.02)\n",
    "\n",
    "# Keep 10 steps for Langevin\n",
    "train_ebm(\n",
    "    model=model_lang,\n",
    "    loader=loader_flt,\n",
    "    optimizer=optimizer_lang,\n",
    "    buffer=buffer_flt,\n",
    "    sampler=langevin_sampler,\n",
    "    mcmc_steps=10,\n",
    "    epochs=EPOCHS\n",
    ")\n",
    "\n",
    "# Final sampling from random [0,1]\n",
    "init_x_flt = torch.rand(64,1,IMAGE_SIZE,IMAGE_SIZE)\n",
    "# Possibly do more steps with smaller step_size\n",
    "langevin_sampler.step_size = 0.01\n",
    "samples_flt = langevin_sampler.sample(init_x_flt, steps=50)\n",
    "show_images_grid(samples_flt, nrow=8, title=\"Langevin EBM Samples\")\n",
    "\n"
   ]
  },
  {
   "cell_type": "code",
   "execution_count": 18,
   "metadata": {},
   "outputs": [
    {
     "name": "stdout",
     "output_type": "stream",
     "text": [
      "Using device: mps\n"
     ]
    },
    {
     "name": "stderr",
     "output_type": "stream",
     "text": [
      "                                                            \r"
     ]
    },
    {
     "name": "stdout",
     "output_type": "stream",
     "text": [
      "[Epoch 1/5] Avg Loss = -12.1195\n"
     ]
    },
    {
     "name": "stderr",
     "output_type": "stream",
     "text": [
      "                                                            \r"
     ]
    },
    {
     "name": "stdout",
     "output_type": "stream",
     "text": [
      "[Epoch 2/5] Avg Loss = -10.3739\n"
     ]
    },
    {
     "name": "stderr",
     "output_type": "stream",
     "text": [
      "                                                            \r"
     ]
    },
    {
     "name": "stdout",
     "output_type": "stream",
     "text": [
      "[Epoch 3/5] Avg Loss = -34.4541\n"
     ]
    },
    {
     "name": "stderr",
     "output_type": "stream",
     "text": [
      "                                                            \r"
     ]
    },
    {
     "name": "stdout",
     "output_type": "stream",
     "text": [
      "[Epoch 4/5] Avg Loss = -77.3970\n"
     ]
    },
    {
     "name": "stderr",
     "output_type": "stream",
     "text": [
      "                                                            "
     ]
    },
    {
     "name": "stdout",
     "output_type": "stream",
     "text": [
      "[Epoch 5/5] Avg Loss = -266.0971\n"
     ]
    },
    {
     "name": "stderr",
     "output_type": "stream",
     "text": [
      "\r"
     ]
    },
    {
     "data": {
      "image/png": "[encoded data removed]",
      "text/plain": [
       "<Figure size 800x800 with 1 Axes>"
      ]
     },
     "metadata": {},
     "output_type": "display_data"
    }
   ],
   "source": [
    "# changing a few hyperparameters - to get even better results. I played with both Gibbs and langevian for a while and found that both these models are \n",
    "# extremely sensetive to hyperparameters. I was able to get much better results by changing the following hyperparameters for langevian and gibbs above\n",
    "# I found some github repos linked below which helped me find these hyperparameters\n",
    "\n",
    "DEVICE = torch.device('cuda' if torch.cuda.is_available()\n",
    "                      else 'mps' if torch.backends.mps.is_available()\n",
    "                      else 'cpu')\n",
    "BATCH_SIZE  = 64\n",
    "EPOCHS      = 5\n",
    "LR          = 2e-3       # smaller learning rate for stability\n",
    "WEIGHT_DECAY= 1e-5       # mild L2 regularization\n",
    "NUM_TRAIN   = 7291       # USPS train set size (approx)\n",
    "IMAGE_SIZE  = 16         # USPS images 16x16\n",
    "CHANNELS    = 1\n",
    "MCMC_STEPS  = 15         # steps of Langevin each minibatch\n",
    "LANGEVIN_STEP = 0.14    # smaller step size in training\n",
    "CLIP_GRAD   = 5.0        # gradient norm clipping\n",
    "\n",
    "print(\"Using device:\", DEVICE)\n",
    "\n",
    "\n",
    "class EnergyModel(nn.Module):\n",
    "    \"\"\"\n",
    "    A small CNN that outputs a single scalar E(x). Lower => more likely x.\n",
    "    We use LeakyReLU to reduce saturation. \n",
    "    \"\"\"\n",
    "    def __init__(self):\n",
    "        super().__init__()\n",
    "        # Fewer channels to keep the model from blowing up quickly\n",
    "        self.conv1 = nn.Conv2d(CHANNELS, 32, kernel_size=3, padding=1)\n",
    "        self.conv2 = nn.Conv2d(32, 32, kernel_size=3, padding=1)\n",
    "        # final linear after global average\n",
    "        self.fc    = nn.Linear(32, 1, bias=False)\n",
    "\n",
    "    def forward(self, x):\n",
    "        \"\"\"\n",
    "        x: [B,1,16,16]\n",
    "        returns scalar energies shape [B]\n",
    "        \"\"\"\n",
    "        h = F.leaky_relu(self.conv1(x), 0.2)  # smaller slope helps\n",
    "        h = F.leaky_relu(self.conv2(h), 0.2)\n",
    "        # global average pool => [B,32]\n",
    "        h = h.mean(dim=[2,3])\n",
    "        # final linear => shape [B]\n",
    "        out = self.fc(h).squeeze(-1)\n",
    "        return out  # E(x)\n",
    "\n",
    "\n",
    "\n",
    "class LangevinSampler:\n",
    "    \"\"\"\n",
    "    x_{t+1} = x_t - 0.5 * step_size * grad(E) + sqrt(step_size)*noise\n",
    "    Then clamp to [0,1].\n",
    "    \"\"\"\n",
    "    def __init__(self, model: nn.Module, step_size: float=0.01, clip: bool=True):\n",
    "        self.model = model\n",
    "        self.step_size = step_size\n",
    "        self.clip = clip\n",
    "\n",
    "    def sample(self, x0: torch.Tensor, steps: int=10) -> torch.Tensor:\n",
    "        \"\"\"\n",
    "        x0: [B,1,H,W] in [0,1]\n",
    "        steps: number of Langevin updates\n",
    "        \"\"\"\n",
    "        self.model.eval()\n",
    "\n",
    "        x = x0.clone().detach().to(DEVICE)\n",
    "        x.requires_grad_(True)\n",
    "\n",
    "        for _ in range(steps):\n",
    "            energy = self.model(x).sum()\n",
    "            energy.backward()\n",
    "\n",
    "            with torch.no_grad():\n",
    "                grad = x.grad\n",
    "                # x <- x - 0.5 * step_size * grad(E) + sqrt(step_size)*noise\n",
    "                x.data = x.data - 0.5 * self.step_size * grad\n",
    "                x.data += math.sqrt(self.step_size) * torch.randn_like(x)\n",
    "                if self.clip:\n",
    "                    x.data.clamp_(0., 1.)\n",
    "\n",
    "            x.grad.zero_()\n",
    "\n",
    "        x.requires_grad_(False)\n",
    "        return x.detach()\n",
    "\n",
    "\n",
    "class PersistentBuffer:\n",
    "    \"\"\"\n",
    "    Holds negative samples across iterations so they don't re-initialize every time.\n",
    "    \"\"\"\n",
    "    def __init__(self, size, shape, device=DEVICE):\n",
    "        self.size = size\n",
    "        self.device = device\n",
    "        # initialize random [0,1]\n",
    "        self.buffer = torch.rand(size, *shape, device=device)\n",
    "\n",
    "    def get(self, batch_size):\n",
    "        idx = torch.randint(0, self.size, (batch_size,), device=self.device)\n",
    "        return self.buffer[idx].clone(), idx\n",
    "\n",
    "    def put(self, x_new, idx):\n",
    "        self.buffer[idx] = x_new\n",
    "\n",
    "\n",
    "def train_ebm(model, loader, optimizer, buffer, sampler, mcmc_steps=10, epochs=5):\n",
    "    \"\"\"\n",
    "    L = E_data(E(x_data)) - E_model(E(x_neg)), done with persistent CD.\n",
    "    We do gradient clipping + weight decay for stability.\n",
    "    \"\"\"\n",
    "    model.to(DEVICE)\n",
    "    model.train()\n",
    "\n",
    "    for epoch in range(1, epochs+1):\n",
    "        total_loss = 0.0\n",
    "        total_count= 0\n",
    "        pbar = tqdm(loader, desc=f\"Epoch {epoch}/{epochs}\", leave=False)\n",
    "\n",
    "        for real_x, _ in pbar:\n",
    "            real_x = real_x.to(DEVICE)\n",
    "\n",
    "            B = real_x.size(0)\n",
    "            E_pos = model(real_x).mean()\n",
    "\n",
    "            # get negatives from buffer\n",
    "            x_neg, idx = buffer.get(B)\n",
    "            # MCMC update\n",
    "            x_neg = sampler.sample(x_neg, steps=mcmc_steps)\n",
    "            # store back\n",
    "            buffer.put(x_neg, idx)\n",
    "\n",
    "            E_neg = model(x_neg).mean()\n",
    "\n",
    "            loss = E_pos - E_neg  # want to minimize (E_pos - E_neg) => maximize E_neg\n",
    "            optimizer.zero_grad()\n",
    "            loss.backward()\n",
    "\n",
    "            # gradient clipping for stability\n",
    "            torch.nn.utils.clip_grad_norm_(model.parameters(), CLIP_GRAD)\n",
    "            optimizer.step()\n",
    "\n",
    "            total_loss += loss.item()*B\n",
    "            total_count+= B\n",
    "\n",
    "        avg_loss = total_loss / total_count\n",
    "        print(f\"[Epoch {epoch}/{epochs}] Avg Loss = {avg_loss:.4f}\")\n",
    "\n",
    "\n",
    "\n",
    "@torch.no_grad()\n",
    "def show_images_grid(tensor_images, nrow=8, title=\"Samples\"):\n",
    "    import matplotlib.pyplot as plt\n",
    "    from torchvision.utils import make_grid\n",
    "\n",
    "    tensor_images = tensor_images[:(nrow*nrow)]\n",
    "    grid = make_grid(tensor_images.cpu(), nrow=nrow, padding=2, pad_value=1.0)\n",
    "    npgrid = grid.permute(1,2,0).numpy()\n",
    "\n",
    "    plt.figure(figsize=(nrow, nrow))\n",
    "    if npgrid.shape[-1] == 1:\n",
    "        plt.imshow(npgrid[...,0], cmap='gray', vmin=0, vmax=1)\n",
    "    else:\n",
    "        plt.imshow(npgrid)\n",
    "    plt.title(title)\n",
    "    plt.axis('off')\n",
    "    plt.show()\n",
    "\n",
    "\n",
    "transform_flt = transforms.ToTensor()\n",
    "train_data_flt = datasets.USPS(root='.', train=True, download=True, transform=transform_flt)\n",
    "loader_flt = DataLoader(train_data_flt, batch_size=BATCH_SIZE, shuffle=True)\n",
    "\n",
    "\n",
    "model = EnergyModel()\n",
    "# use a little weight decay for stability\n",
    "optimizer = optim.Adam(model.parameters(), lr=LR, weight_decay=WEIGHT_DECAY)\n",
    "\n",
    "\n",
    "buffer = PersistentBuffer(size=NUM_TRAIN, shape=(1,IMAGE_SIZE,IMAGE_SIZE), device=DEVICE)\n",
    "\n",
    "\n",
    "sampler = LangevinSampler(model, step_size=LANGEVIN_STEP)\n",
    "\n",
    "train_ebm(\n",
    "    model=model,\n",
    "    loader=loader_flt,\n",
    "    optimizer=optimizer,\n",
    "    buffer=buffer,\n",
    "    sampler=sampler,\n",
    "    mcmc_steps=MCMC_STEPS,\n",
    "    epochs=EPOCHS\n",
    ")\n",
    "\n",
    "sampler.step_size = 0.04  # reduce further at test time\n",
    "init_x = torch.rand(64, 1, IMAGE_SIZE, IMAGE_SIZE)\n",
    "samples = sampler.sample(init_x, steps=50)\n",
    "show_images_grid(samples, nrow=8, title=\"Langevin EBM Samples\")\n"
   ]
  },
  {
   "cell_type": "markdown",
   "metadata": {},
   "source": [
    "# Comparison Between the Two Results\n",
    "\n",
    "I also looked at these links:\n",
    "- [MNIST Distribution Training Script](https://github.com/raoulnormand/mnist_distribution/blob/master/training_script_only_3.py)\n",
    "- [Langevin Sampler by HoeflerMatthias](https://github.com/HoeflerMatthias/langevin/blob/main/Langevin.py)\n",
    "- [Generative Modeling Zoo (Duke University PhD student)](https://github.com/elliothha/generative-modeling-zoo)\n",
    "\n",
    "**Notes:**\n",
    "- These models appear to be extremely sensitive to hyperparameters, which is probably why they are not widely used in industry.\n",
    "- Although it is possible to achieve excellent results with these models, it is unexpected because they are very sensitive to both the training procedure and the data.\n",
    "- For reference, the same code can yield drastically different results depending on how many times it is run.  \n",
    "  ![Another Run](another_run.png)  \n",
    "  This image shows an alternate run.\n",
    "- Additionally, the checkerboard pattern is a well-known failure mode for Langevin models."
   ]
  }
 ],
 "metadata": {
  "kernelspec": {
   "display_name": "deeplearning",
   "language": "python",
   "name": "python3"
  },
  "language_info": {
   "codemirror_mode": {
    "name": "ipython",
    "version": 3
   },
   "file_extension": ".py",
   "mimetype": "text/x-python",
   "name": "python",
   "nbconvert_exporter": "python",
   "pygments_lexer": "ipython3",
   "version": "3.10.16"
  }
 },
 "nbformat": 4,
 "nbformat_minor": 2
}
