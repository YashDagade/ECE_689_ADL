{
 "cells": [
  {
   "cell_type": "code",
   "execution_count": 5,
   "metadata": {},
   "outputs": [
    {
     "name": "stdout",
     "output_type": "stream",
     "text": [
      "Using device : mps\n"
     ]
    }
   ],
   "source": [
    "import torch\n",
    "import torch.nn as nn\n",
    "import torch.optim as optim\n",
    "import torch.nn.functional as F\n",
    "from torch.utils.data import DataLoader\n",
    "from torchvision import datasets, transforms\n",
    "import matplotlib.pyplot as plt\n",
    "import numpy as np\n",
    "from tqdm import tqdm\n",
    "\n",
    " \n",
    "\n",
    " \n",
    "device = torch.device('cuda' if torch.cuda.is_available() \n",
    "                      else 'mps' if torch.backends.mps.is_available() \n",
    "                      else 'cpu')\n",
    "print(\"Using device :\", device)\n",
    "\n",
    " \n",
    "transform_8x8 = transforms.Compose([\n",
    "    transforms.Resize((8,8)),   \n",
    "    transforms.ToTensor()\n",
    "])\n",
    "\n",
    "batch_size = 128\n",
    "\n",
    "train_dataset = datasets.MNIST(\n",
    "    root='mnist_data', train=True, download=True, transform=transform_8x8\n",
    ")\n",
    "test_dataset = datasets.MNIST(\n",
    "    root='mnist_data', train=False, download=True, transform=transform_8x8\n",
    ")\n",
    "\n",
    "train_loader = DataLoader(train_dataset, batch_size=batch_size, shuffle=True, num_workers=2)\n",
    "test_loader  = DataLoader(test_dataset,  batch_size=batch_size, shuffle=False, num_workers=2)\n",
    "\n",
    "# MNIST is grayscale, so each image is now (1, 8, 8). We'll flatten to 64.\n",
    "input_dim = 8 * 8  # =64\n",
    "\n",
    " "
   ]
  },
  {
   "cell_type": "code",
   "execution_count": 6,
   "metadata": {},
   "outputs": [],
   "source": [
    "\n",
    "# Base Distribution: Standard Normal\n",
    " \n",
    "class StandardNormal:\n",
    "    \"\"\"Simple standard Normal as a base distribution.\"\"\"\n",
    "    def __init__(self, shape):\n",
    "        self.shape = shape\n",
    "\n",
    "    def log_prob(self, z):\n",
    "        # log p(z) = -1/2 (z^2 + log(2π)) summed over dims\n",
    "        return -0.5 * (z**2 + torch.log(torch.tensor(2.0*np.pi))).sum(dim=1)\n",
    "\n",
    "    def sample(self, batch_size):\n",
    "        return torch.randn(batch_size, *self.shape).to(device)\n",
    "\n",
    " \n",
    "#  Coupling Flow (RealNVP-like)\n",
    " \n",
    "class CouplingLayer(nn.Module):\n",
    "    \"\"\"\n",
    "    One coupling layer in RealNVP style. \n",
    "    We split the input: x = [x1, x2].\n",
    "    Transform x2 with an affine function of x1.\n",
    "    \"\"\"\n",
    "    def __init__(self, input_dim, hidden_dim):\n",
    "        super().__init__()\n",
    "        self.D = input_dim // 2\n",
    "\n",
    "        self.nn_scale = nn.Sequential(\n",
    "            nn.Linear(self.D, hidden_dim),\n",
    "            nn.ReLU(),\n",
    "            nn.Linear(hidden_dim, self.D)\n",
    "        )\n",
    "        self.nn_trans = nn.Sequential(\n",
    "            nn.Linear(self.D, hidden_dim),\n",
    "            nn.ReLU(),\n",
    "            nn.Linear(hidden_dim, self.D)\n",
    "        )\n",
    "\n",
    "    def forward(self, x, reverse=False):\n",
    "        x1 = x[:, :self.D]\n",
    "        x2 = x[:, self.D:]\n",
    "\n",
    "        s = self.nn_scale(x1)\n",
    "        t = self.nn_trans(x1)\n",
    "        s = torch.tanh(s) * 1.5  # clamp scale for stability\n",
    "\n",
    "        if not reverse:\n",
    "            # Forward: x2 -> z2\n",
    "            z2 = x2 * torch.exp(s) + t\n",
    "            z = torch.cat([x1, z2], dim=1)\n",
    "            log_det_jac = s.sum(dim=1)\n",
    "        else:\n",
    "            # Inverse: z2 -> x2\n",
    "            z2 = (x2 - t) * torch.exp(-s)\n",
    "            z = torch.cat([x1, z2], dim=1)\n",
    "            log_det_jac = -s.sum(dim=1)\n",
    "\n",
    "        return z, log_det_jac\n",
    "\n",
    "\n",
    "class RealNVP(nn.Module):\n",
    "    \"\"\"Chain multiple RealNVP coupling layers.\"\"\"\n",
    "    def __init__(self, input_dim, hidden_dim=128, num_flows=4):\n",
    "        super().__init__()\n",
    "        self.layers = nn.ModuleList([\n",
    "            CouplingLayer(input_dim, hidden_dim) for _ in range(num_flows)\n",
    "        ])\n",
    "        self.base_dist = StandardNormal((input_dim,))\n",
    "\n",
    "    def forward(self, x):\n",
    "        \"\"\"x -> z, accumulate log|det|.\"\"\"\n",
    "        log_det = 0.0\n",
    "        z = x\n",
    "        for layer in self.layers:\n",
    "            z, ld = layer(z, reverse=False)\n",
    "            log_det += ld\n",
    "        return z, log_det\n",
    "\n",
    "    def inverse(self, z):\n",
    "        \"\"\"z -> x, accumulate log|det| of inverse.\"\"\"\n",
    "        log_det = 0.0\n",
    "        x = z\n",
    "        for layer in reversed(self.layers):\n",
    "            x, ld = layer(x, reverse=True)\n",
    "            log_det += ld\n",
    "        return x, log_det\n",
    "\n",
    "    def log_prob(self, x):\n",
    "        \"\"\"log p(x) = log p(z) + log|det(dz/dx)|.\"\"\"\n",
    "        z, log_det = self.forward(x)\n",
    "        log_p_z = self.base_dist.log_prob(z)\n",
    "        return log_p_z + log_det\n",
    "\n",
    "    def sample(self, batch_size):\n",
    "        \"\"\"Sample by drawing z and inverting.\"\"\"\n",
    "        z = self.base_dist.sample(batch_size)\n",
    "        x, _ = self.inverse(z)\n",
    "        return x\n",
    "\n",
    " \n",
    "# Autoregressive Flow (MAF-like)\n",
    " \n",
    "class MaskedLinear(nn.Module):\n",
    "    \"\"\"A linear layer that applies a mask (for autoregressive connections).\"\"\"\n",
    "    def __init__(self, in_features, out_features):\n",
    "        super().__init__()\n",
    "        self.linear = nn.Linear(in_features, out_features)\n",
    "        self.register_buffer('mask', torch.ones(out_features, in_features))\n",
    "\n",
    "    def set_mask(self, mask):\n",
    "        self.mask = mask\n",
    "\n",
    "    def forward(self, x):\n",
    "        return F.linear(x, self.linear.weight * self.mask, self.linear.bias)\n",
    "\n",
    "\n",
    "class AutoregressiveBlock(nn.Module):\n",
    "    \"\"\"\n",
    "    One MAF block:\n",
    "    z = x * exp(s) + t,\n",
    "    where s,t are predicted by a masked network from x.\n",
    "    \"\"\"\n",
    "    def __init__(self, input_dim, hidden_dim):\n",
    "        super().__init__()\n",
    "        self.net = nn.Sequential(\n",
    "            MaskedLinear(input_dim, hidden_dim),\n",
    "            nn.ReLU(),\n",
    "            MaskedLinear(hidden_dim, hidden_dim),\n",
    "            nn.ReLU(),\n",
    "            MaskedLinear(hidden_dim, 2 * input_dim)\n",
    "        )\n",
    "\n",
    "    def forward(self, x, reverse=False):\n",
    "        if not reverse:\n",
    "            out = self.net(x)\n",
    "            s, t = out.chunk(2, dim=1)\n",
    "            s = torch.tanh(s) * 1.5\n",
    "            z = x * torch.exp(s) + t\n",
    "            log_det_jac = s.sum(dim=1)\n",
    "            return z, log_det_jac\n",
    "        else:\n",
    "            # Inverse pass (z -> x) dimension by dimension\n",
    "            x_inv = torch.zeros_like(x)\n",
    "            log_det_jac = torch.zeros(x.size(0), device=device)\n",
    "            for i in range(x.size(1)):\n",
    "                out = self.net(x_inv)\n",
    "                s, t = out.chunk(2, dim=1)\n",
    "                si = s[:, i].unsqueeze(1)\n",
    "                ti = t[:, i].unsqueeze(1)\n",
    "                x_inv[:, i] = (x[:, i] - ti.squeeze(1)) * torch.exp(-si.squeeze(1))\n",
    "                log_det_jac += -si.squeeze(1)\n",
    "            return x_inv, log_det_jac\n",
    "\n",
    "\n",
    "class MAF(nn.Module):\n",
    "    \"\"\"A Masked Autoregressive Flow using multiple autoregressive blocks.\"\"\"\n",
    "    def __init__(self, input_dim, hidden_dim=128, num_flows=4):\n",
    "        super().__init__()\n",
    "        self.blocks = nn.ModuleList([\n",
    "            AutoregressiveBlock(input_dim, hidden_dim) for _ in range(num_flows)\n",
    "        ])\n",
    "        self.input_dim = input_dim\n",
    "        self.base_dist = StandardNormal((input_dim,))\n",
    "\n",
    "        # Build the masks to ensure autoregressive property\n",
    "        for block in self.blocks:\n",
    "            self._make_autoregressive_masks(block, input_dim, hidden_dim)\n",
    "\n",
    "    def _make_autoregressive_masks(self, block, input_dim, hidden_dim):\n",
    "        \"\"\"\n",
    "        Minimal example of creating a lower-triangular mask for each MaskedLinear\n",
    "        to achieve the autoregressive property (MADE-like).\n",
    "        \"\"\"\n",
    "        layers = [l for l in block.net if isinstance(l, MaskedLinear)]\n",
    "        D = input_dim\n",
    "\n",
    "        def create_mask(in_feats, out_feats, order_in, order_out):\n",
    "            mask = torch.zeros(out_feats, in_feats)\n",
    "            for j in range(out_feats):\n",
    "                for i in range(in_feats):\n",
    "                    if order_in[i] < order_out[j]:\n",
    "                        mask[j, i] = 1\n",
    "            return mask\n",
    "\n",
    "        order_input = list(range(D))\n",
    "        # first masked linear\n",
    "        ml1 = layers[0]\n",
    "        out_feats1 = ml1.linear.out_features\n",
    "        order_h1 = np.random.randint(1, D, size=out_feats1)\n",
    "        order_h1 = np.clip(order_h1, 1, D-1)\n",
    "        order_h1 = sorted(order_h1)\n",
    "        mask1 = create_mask(D, out_feats1, order_input, order_h1)\n",
    "        ml1.set_mask(mask1)\n",
    "\n",
    "        # second masked linear\n",
    "        ml2 = layers[1]\n",
    "        out_feats2 = ml2.linear.out_features\n",
    "        order_h2 = np.random.randint(1, D, size=out_feats2)\n",
    "        order_h2 = np.clip(order_h2, 1, D-1)\n",
    "        order_h2 = sorted(order_h2)\n",
    "        mask2 = create_mask(out_feats1, out_feats2, order_h1, order_h2)\n",
    "        ml2.set_mask(mask2)\n",
    "\n",
    "        # final masked linear\n",
    "        ml3 = layers[2]\n",
    "        out_feats3 = ml3.linear.out_features\n",
    "        # e.g. 2*D => each dimension for s,t\n",
    "        order_out = np.array([i % D for i in range(out_feats3)])\n",
    "        mask3 = create_mask(out_feats2, out_feats3, order_h2, order_out)\n",
    "        ml3.set_mask(mask3)\n",
    "\n",
    "    def forward(self, x):\n",
    "        log_det = 0.0\n",
    "        z = x\n",
    "        for block in self.blocks:\n",
    "            z, ld = block(z, reverse=False)\n",
    "            log_det += ld\n",
    "        return z, log_det\n",
    "\n",
    "    def inverse(self, z):\n",
    "        log_det = 0.0\n",
    "        x = z\n",
    "        for block in reversed(self.blocks):\n",
    "            x, ld = block(x, reverse=True)\n",
    "            log_det += ld\n",
    "        return x, log_det\n",
    "\n",
    "    def log_prob(self, x):\n",
    "        z, log_det = self.forward(x)\n",
    "        log_p_z = self.base_dist.log_prob(z)\n",
    "        return log_p_z + log_det\n",
    "\n",
    "    def sample(self, batch_size):\n",
    "        z = self.base_dist.sample(batch_size)\n",
    "        x, _ = self.inverse(z)\n",
    "        return x\n",
    "\n"
   ]
  },
  {
   "cell_type": "code",
   "execution_count": 7,
   "metadata": {},
   "outputs": [],
   "source": [
    "\n",
    " \n",
    "def train_flow(model, train_loader, optimizer, epochs=10):\n",
    "    model.train()\n",
    "    for epoch in range(epochs):\n",
    "        running_loss = 0.0\n",
    "        for (data, _) in tqdm(train_loader, desc=f\"Epoch {epoch+1}/{epochs}\"):\n",
    "            # flatten each image to 64-dim\n",
    "            data = data.view(data.size(0), -1).to(device)\n",
    "            optimizer.zero_grad()\n",
    "            log_p = model.log_prob(data)  # log-likelihood\n",
    "            loss = -log_p.mean()         # want to *maximize* log-likelihood\n",
    "            loss.backward()\n",
    "            optimizer.step()\n",
    "            running_loss += loss.item() * data.size(0)\n",
    "\n",
    "        avg_loss = running_loss / len(train_loader.dataset)\n",
    "        print(f\"[Epoch {epoch+1}] avg NLL = {avg_loss:.4f}\")\n",
    "\n",
    "def evaluate_flow(model, test_loader):\n",
    "    model.eval()\n",
    "    total_log_prob = 0.0\n",
    "    with torch.no_grad():\n",
    "        for (data, _) in test_loader:\n",
    "            data = data.view(data.size(0), -1).to(device)\n",
    "            log_prob = model.log_prob(data)\n",
    "            total_log_prob += log_prob.sum().item()\n",
    "    avg_log_prob = total_log_prob / len(test_loader.dataset)\n",
    "    return avg_log_prob\n",
    "\n",
    "def plot_samples(model, n=8, title=\"Samples\"):\n",
    "    model.eval()\n",
    "    with torch.no_grad():\n",
    "        samples = model.sample(n*n).cpu().numpy()\n",
    "    # reshape to 8x8\n",
    "    samples = samples.reshape(-1, 8, 8)\n",
    "    \n",
    "    fig, axes = plt.subplots(n, n, figsize=(8, 8))\n",
    "    idx = 0\n",
    "    for i in range(n):\n",
    "        for j in range(n):\n",
    "            axes[i, j].imshow(samples[idx], cmap='gray')\n",
    "            axes[i, j].axis('off')\n",
    "            idx += 1\n",
    "    plt.suptitle(title)\n",
    "    plt.tight_layout()\n",
    "    plt.show()\n"
   ]
  },
  {
   "cell_type": "code",
   "execution_count": 8,
   "metadata": {},
   "outputs": [
    {
     "name": "stdout",
     "output_type": "stream",
     "text": [
      "\n",
      "Training MAF flow...\n"
     ]
    },
    {
     "name": "stderr",
     "output_type": "stream",
     "text": [
      "Epoch 1/10: 100%|██████████| 469/469 [00:05<00:00, 81.09it/s] \n"
     ]
    },
    {
     "name": "stdout",
     "output_type": "stream",
     "text": [
      "[Epoch 1] avg NLL = -94.5500\n"
     ]
    },
    {
     "name": "stderr",
     "output_type": "stream",
     "text": [
      "Epoch 2/10: 100%|██████████| 469/469 [00:05<00:00, 88.24it/s] \n"
     ]
    },
    {
     "name": "stdout",
     "output_type": "stream",
     "text": [
      "[Epoch 2] avg NLL = -133.8975\n"
     ]
    },
    {
     "name": "stderr",
     "output_type": "stream",
     "text": [
      "Epoch 3/10: 100%|██████████| 469/469 [00:06<00:00, 67.79it/s]\n"
     ]
    },
    {
     "name": "stdout",
     "output_type": "stream",
     "text": [
      "[Epoch 3] avg NLL = -143.3660\n"
     ]
    },
    {
     "name": "stderr",
     "output_type": "stream",
     "text": [
      "Epoch 4/10: 100%|██████████| 469/469 [00:05<00:00, 86.90it/s] \n"
     ]
    },
    {
     "name": "stdout",
     "output_type": "stream",
     "text": [
      "[Epoch 4] avg NLL = -148.2547\n"
     ]
    },
    {
     "name": "stderr",
     "output_type": "stream",
     "text": [
      "Epoch 5/10: 100%|██████████| 469/469 [00:05<00:00, 79.12it/s] \n"
     ]
    },
    {
     "name": "stdout",
     "output_type": "stream",
     "text": [
      "[Epoch 5] avg NLL = -150.9139\n"
     ]
    },
    {
     "name": "stderr",
     "output_type": "stream",
     "text": [
      "Epoch 6/10: 100%|██████████| 469/469 [00:05<00:00, 84.10it/s] \n"
     ]
    },
    {
     "name": "stdout",
     "output_type": "stream",
     "text": [
      "[Epoch 6] avg NLL = -153.0549\n"
     ]
    },
    {
     "name": "stderr",
     "output_type": "stream",
     "text": [
      "Epoch 7/10: 100%|██████████| 469/469 [00:05<00:00, 88.61it/s] \n"
     ]
    },
    {
     "name": "stdout",
     "output_type": "stream",
     "text": [
      "[Epoch 7] avg NLL = -154.6844\n"
     ]
    },
    {
     "name": "stderr",
     "output_type": "stream",
     "text": [
      "Epoch 8/10: 100%|██████████| 469/469 [00:05<00:00, 88.54it/s] \n"
     ]
    },
    {
     "name": "stdout",
     "output_type": "stream",
     "text": [
      "[Epoch 8] avg NLL = -156.0089\n"
     ]
    },
    {
     "name": "stderr",
     "output_type": "stream",
     "text": [
      "Epoch 9/10: 100%|██████████| 469/469 [00:05<00:00, 88.38it/s] \n"
     ]
    },
    {
     "name": "stdout",
     "output_type": "stream",
     "text": [
      "[Epoch 9] avg NLL = -157.3386\n"
     ]
    },
    {
     "name": "stderr",
     "output_type": "stream",
     "text": [
      "Epoch 10/10: 100%|██████████| 469/469 [00:05<00:00, 88.98it/s] "
     ]
    },
    {
     "name": "stdout",
     "output_type": "stream",
     "text": [
      "[Epoch 10] avg NLL = -158.4862\n"
     ]
    },
    {
     "name": "stderr",
     "output_type": "stream",
     "text": [
      "\n"
     ]
    },
    {
     "name": "stdout",
     "output_type": "stream",
     "text": [
      "MAF: Test avg log-likelihood = 153.8315\n"
     ]
    },
    {
     "data": {
      "image/png": "[encoded data removed]",
      "text/plain": [
       "<Figure size 800x800 with 64 Axes>"
      ]
     },
     "metadata": {},
     "output_type": "display_data"
    }
   ],
   "source": [
    "\n",
    "\n",
    "# realnvp_model = RealNVP(input_dim=input_dim, hidden_dim=256, num_flows=4).to(device)\n",
    "# optimizer_rnvp = optim.Adam(realnvp_model.parameters(), lr=1e-3)\n",
    "# print(\"\\nTraining RealNVP flow...\")\n",
    "# train_flow(realnvp_model, train_loader, optimizer_rnvp, epochs=10)\n",
    "# test_log_prob_rnvp = evaluate_flow(realnvp_model, test_loader)\n",
    "# print(f\"RealNVP: Test avg log-likelihood = {test_log_prob_rnvp:.4f}\")\n",
    "# plot_samples(realnvp_model, n=8, title=\"RealNVP Samples\")\n",
    "\n",
    "maf_model = MAF(input_dim=input_dim, hidden_dim=256, num_flows=4).to(device)\n",
    "optimizer_maf = optim.Adam(maf_model.parameters(), lr=1e-3)\n",
    "print(\"\\nTraining MAF flow...\")\n",
    "train_flow(maf_model, train_loader, optimizer_maf, epochs=10)\n",
    "test_log_prob_maf = evaluate_flow(maf_model, test_loader)\n",
    "print(f\"MAF: Test avg log-likelihood = {test_log_prob_maf:.4f}\")\n",
    "plot_samples(maf_model, n=8, title=\"MAF Samples\")\n"
   ]
  },
  {
   "cell_type": "code",
   "execution_count": 4,
   "metadata": {},
   "outputs": [
    {
     "name": "stdout",
     "output_type": "stream",
     "text": [
      "Using device: mps\n",
      "\n",
      "=== Training NICE flow (8×8 MNIST) ===\n"
     ]
    },
    {
     "name": "stderr",
     "output_type": "stream",
     "text": [
      "Epoch 1/10: 100%|██████████| 469/469 [00:13<00:00, 35.08it/s]\n"
     ]
    },
    {
     "name": "stdout",
     "output_type": "stream",
     "text": [
      "[Epoch 1] avg NLL= 44.1755\n"
     ]
    },
    {
     "name": "stderr",
     "output_type": "stream",
     "text": [
      "Epoch 2/10: 100%|██████████| 469/469 [00:13<00:00, 34.29it/s]\n"
     ]
    },
    {
     "name": "stdout",
     "output_type": "stream",
     "text": [
      "[Epoch 2] avg NLL= 14.1267\n"
     ]
    },
    {
     "name": "stderr",
     "output_type": "stream",
     "text": [
      "Epoch 3/10: 100%|██████████| 469/469 [00:14<00:00, 33.18it/s]\n"
     ]
    },
    {
     "name": "stdout",
     "output_type": "stream",
     "text": [
      "[Epoch 3] avg NLL= -15.3878\n"
     ]
    },
    {
     "name": "stderr",
     "output_type": "stream",
     "text": [
      "Epoch 4/10: 100%|██████████| 469/469 [00:13<00:00, 35.04it/s]\n"
     ]
    },
    {
     "name": "stdout",
     "output_type": "stream",
     "text": [
      "[Epoch 4] avg NLL= -44.1396\n"
     ]
    },
    {
     "name": "stderr",
     "output_type": "stream",
     "text": [
      "Epoch 5/10: 100%|██████████| 469/469 [00:13<00:00, 35.87it/s]\n"
     ]
    },
    {
     "name": "stdout",
     "output_type": "stream",
     "text": [
      "[Epoch 5] avg NLL= -71.2113\n"
     ]
    },
    {
     "name": "stderr",
     "output_type": "stream",
     "text": [
      "Epoch 6/10: 100%|██████████| 469/469 [00:13<00:00, 35.25it/s]\n"
     ]
    },
    {
     "name": "stdout",
     "output_type": "stream",
     "text": [
      "[Epoch 6] avg NLL= -95.2667\n"
     ]
    },
    {
     "name": "stderr",
     "output_type": "stream",
     "text": [
      "Epoch 7/10: 100%|██████████| 469/469 [00:12<00:00, 36.96it/s]\n"
     ]
    },
    {
     "name": "stdout",
     "output_type": "stream",
     "text": [
      "[Epoch 7] avg NLL= -114.5195\n"
     ]
    },
    {
     "name": "stderr",
     "output_type": "stream",
     "text": [
      "Epoch 8/10: 100%|██████████| 469/469 [00:12<00:00, 36.89it/s]\n"
     ]
    },
    {
     "name": "stdout",
     "output_type": "stream",
     "text": [
      "[Epoch 8] avg NLL= -128.3838\n"
     ]
    },
    {
     "name": "stderr",
     "output_type": "stream",
     "text": [
      "Epoch 9/10: 100%|██████████| 469/469 [00:12<00:00, 36.31it/s]\n"
     ]
    },
    {
     "name": "stdout",
     "output_type": "stream",
     "text": [
      "[Epoch 9] avg NLL= -137.9124\n"
     ]
    },
    {
     "name": "stderr",
     "output_type": "stream",
     "text": [
      "Epoch 10/10: 100%|██████████| 469/469 [00:15<00:00, 30.07it/s]"
     ]
    },
    {
     "name": "stdout",
     "output_type": "stream",
     "text": [
      "[Epoch 10] avg NLL= -143.9521\n"
     ]
    },
    {
     "name": "stderr",
     "output_type": "stream",
     "text": [
      "\n"
     ]
    },
    {
     "name": "stdout",
     "output_type": "stream",
     "text": [
      "NICE: Test avg log-likelihood= 144.5794\n"
     ]
    },
    {
     "data": {
      "image/png": "[encoded data removed]",
      "text/plain": [
       "<Figure size 800x800 with 64 Axes>"
      ]
     },
     "metadata": {},
     "output_type": "display_data"
    },
    {
     "name": "stdout",
     "output_type": "stream",
     "text": [
      "\n",
      "=== Training RealNVP flow (8×8 MNIST) ===\n"
     ]
    },
    {
     "name": "stderr",
     "output_type": "stream",
     "text": [
      "Epoch 1/10: 100%|██████████| 469/469 [00:07<00:00, 66.12it/s] \n"
     ]
    },
    {
     "name": "stdout",
     "output_type": "stream",
     "text": [
      "[Epoch 1] avg NLL= -26.4848\n"
     ]
    },
    {
     "name": "stderr",
     "output_type": "stream",
     "text": [
      "Epoch 2/10: 100%|██████████| 469/469 [00:06<00:00, 71.95it/s]\n"
     ]
    },
    {
     "name": "stdout",
     "output_type": "stream",
     "text": [
      "[Epoch 2] avg NLL= -36.3798\n"
     ]
    },
    {
     "name": "stderr",
     "output_type": "stream",
     "text": [
      "Epoch 3/10: 100%|██████████| 469/469 [00:06<00:00, 70.47it/s] \n"
     ]
    },
    {
     "name": "stdout",
     "output_type": "stream",
     "text": [
      "[Epoch 3] avg NLL= -38.7445\n"
     ]
    },
    {
     "name": "stderr",
     "output_type": "stream",
     "text": [
      "Epoch 4/10: 100%|██████████| 469/469 [00:06<00:00, 69.47it/s] \n"
     ]
    },
    {
     "name": "stdout",
     "output_type": "stream",
     "text": [
      "[Epoch 4] avg NLL= -40.2187\n"
     ]
    },
    {
     "name": "stderr",
     "output_type": "stream",
     "text": [
      "Epoch 5/10: 100%|██████████| 469/469 [00:06<00:00, 73.52it/s] \n"
     ]
    },
    {
     "name": "stdout",
     "output_type": "stream",
     "text": [
      "[Epoch 5] avg NLL= -41.2892\n"
     ]
    },
    {
     "name": "stderr",
     "output_type": "stream",
     "text": [
      "Epoch 6/10: 100%|██████████| 469/469 [00:06<00:00, 72.64it/s] \n"
     ]
    },
    {
     "name": "stdout",
     "output_type": "stream",
     "text": [
      "[Epoch 6] avg NLL= -42.1019\n"
     ]
    },
    {
     "name": "stderr",
     "output_type": "stream",
     "text": [
      "Epoch 7/10: 100%|██████████| 469/469 [00:06<00:00, 67.28it/s]\n"
     ]
    },
    {
     "name": "stdout",
     "output_type": "stream",
     "text": [
      "[Epoch 7] avg NLL= -42.8223\n"
     ]
    },
    {
     "name": "stderr",
     "output_type": "stream",
     "text": [
      "Epoch 8/10: 100%|██████████| 469/469 [00:06<00:00, 67.86it/s]\n"
     ]
    },
    {
     "name": "stdout",
     "output_type": "stream",
     "text": [
      "[Epoch 8] avg NLL= -43.4384\n"
     ]
    },
    {
     "name": "stderr",
     "output_type": "stream",
     "text": [
      "Epoch 9/10: 100%|██████████| 469/469 [00:06<00:00, 68.82it/s]\n"
     ]
    },
    {
     "name": "stdout",
     "output_type": "stream",
     "text": [
      "[Epoch 9] avg NLL= -43.9732\n"
     ]
    },
    {
     "name": "stderr",
     "output_type": "stream",
     "text": [
      "Epoch 10/10: 100%|██████████| 469/469 [00:06<00:00, 77.93it/s] "
     ]
    },
    {
     "name": "stdout",
     "output_type": "stream",
     "text": [
      "[Epoch 10] avg NLL= -44.3684\n"
     ]
    },
    {
     "name": "stderr",
     "output_type": "stream",
     "text": [
      "\n"
     ]
    },
    {
     "name": "stdout",
     "output_type": "stream",
     "text": [
      "RealNVP: Test avg log-likelihood= 42.0158\n"
     ]
    },
    {
     "data": {
      "image/png": "[encoded data removed]",
      "text/plain": [
       "<Figure size 800x800 with 64 Axes>"
      ]
     },
     "metadata": {},
     "output_type": "display_data"
    },
    {
     "name": "stdout",
     "output_type": "stream",
     "text": [
      "\n",
      "=== Training MAF flow (8×8 MNIST) ===\n"
     ]
    },
    {
     "name": "stderr",
     "output_type": "stream",
     "text": [
      "Epoch 1/10: 100%|██████████| 469/469 [00:05<00:00, 81.28it/s] \n"
     ]
    },
    {
     "name": "stdout",
     "output_type": "stream",
     "text": [
      "[Epoch 1] avg NLL= -93.3482\n"
     ]
    },
    {
     "name": "stderr",
     "output_type": "stream",
     "text": [
      "Epoch 2/10: 100%|██████████| 469/469 [00:05<00:00, 80.30it/s] \n"
     ]
    },
    {
     "name": "stdout",
     "output_type": "stream",
     "text": [
      "[Epoch 2] avg NLL= -134.9204\n"
     ]
    },
    {
     "name": "stderr",
     "output_type": "stream",
     "text": [
      "Epoch 3/10: 100%|██████████| 469/469 [00:05<00:00, 82.41it/s] \n"
     ]
    },
    {
     "name": "stdout",
     "output_type": "stream",
     "text": [
      "[Epoch 3] avg NLL= -143.5839\n"
     ]
    },
    {
     "name": "stderr",
     "output_type": "stream",
     "text": [
      "Epoch 4/10: 100%|██████████| 469/469 [00:05<00:00, 87.63it/s] \n"
     ]
    },
    {
     "name": "stdout",
     "output_type": "stream",
     "text": [
      "[Epoch 4] avg NLL= -148.2695\n"
     ]
    },
    {
     "name": "stderr",
     "output_type": "stream",
     "text": [
      "Epoch 5/10: 100%|██████████| 469/469 [00:05<00:00, 84.42it/s] \n"
     ]
    },
    {
     "name": "stdout",
     "output_type": "stream",
     "text": [
      "[Epoch 5] avg NLL= -151.1551\n"
     ]
    },
    {
     "name": "stderr",
     "output_type": "stream",
     "text": [
      "Epoch 6/10: 100%|██████████| 469/469 [00:05<00:00, 84.34it/s] \n"
     ]
    },
    {
     "name": "stdout",
     "output_type": "stream",
     "text": [
      "[Epoch 6] avg NLL= -153.3201\n"
     ]
    },
    {
     "name": "stderr",
     "output_type": "stream",
     "text": [
      "Epoch 7/10: 100%|██████████| 469/469 [00:05<00:00, 88.53it/s] \n"
     ]
    },
    {
     "name": "stdout",
     "output_type": "stream",
     "text": [
      "[Epoch 7] avg NLL= -155.2826\n"
     ]
    },
    {
     "name": "stderr",
     "output_type": "stream",
     "text": [
      "Epoch 8/10: 100%|██████████| 469/469 [00:05<00:00, 83.08it/s] \n"
     ]
    },
    {
     "name": "stdout",
     "output_type": "stream",
     "text": [
      "[Epoch 8] avg NLL= -156.6979\n"
     ]
    },
    {
     "name": "stderr",
     "output_type": "stream",
     "text": [
      "Epoch 9/10: 100%|██████████| 469/469 [00:05<00:00, 83.15it/s] \n"
     ]
    },
    {
     "name": "stdout",
     "output_type": "stream",
     "text": [
      "[Epoch 9] avg NLL= -157.7840\n"
     ]
    },
    {
     "name": "stderr",
     "output_type": "stream",
     "text": [
      "Epoch 10/10: 100%|██████████| 469/469 [00:05<00:00, 84.01it/s] "
     ]
    },
    {
     "name": "stdout",
     "output_type": "stream",
     "text": [
      "[Epoch 10] avg NLL= -158.7731\n"
     ]
    },
    {
     "name": "stderr",
     "output_type": "stream",
     "text": [
      "\n"
     ]
    },
    {
     "name": "stdout",
     "output_type": "stream",
     "text": [
      "MAF: Test avg log-likelihood= 156.8160\n"
     ]
    },
    {
     "data": {
      "image/png": "[encoded data removed]",
      "text/plain": [
       "<Figure size 800x800 with 64 Axes>"
      ]
     },
     "metadata": {},
     "output_type": "display_data"
    }
   ],
   "source": [
    "import math\n",
    "import numpy as np\n",
    "import torch\n",
    "import torch.nn as nn\n",
    "import torch.nn.functional as F\n",
    "from torch.utils.data import DataLoader\n",
    "from torchvision import datasets, transforms\n",
    "import matplotlib.pyplot as plt\n",
    "from tqdm import tqdm\n",
    "\n",
    "##################################################\n",
    "# 1) Global Setup\n",
    "##################################################\n",
    "device = torch.device('cuda' if torch.cuda.is_available() \n",
    "                      else 'mps' if torch.backends.mps.is_available()\n",
    "                      else 'cpu')\n",
    "print(\"Using device:\", device)\n",
    "\n",
    "BATCH_SIZE = 128\n",
    "EPOCHS     = 10\n",
    "LR         = 1e-3\n",
    "\n",
    "IMG_SIZE   = 8   # Downsample MNIST to 8×8 => dimension=64 (even)\n",
    "INPUT_DIM  = IMG_SIZE * IMG_SIZE  # =64\n",
    "\n",
    "##################################################\n",
    "# 2) Data: MNIST to 8×8\n",
    "##################################################\n",
    "transform_8x8 = transforms.Compose([\n",
    "    transforms.Resize((IMG_SIZE, IMG_SIZE)),\n",
    "    transforms.ToTensor()\n",
    "])\n",
    "train_dataset = datasets.MNIST(root='mnist_data', train=True,  download=True, transform=transform_8x8)\n",
    "test_dataset  = datasets.MNIST(root='mnist_data', train=False, download=True, transform=transform_8x8)\n",
    "\n",
    "train_loader = DataLoader(train_dataset, batch_size=BATCH_SIZE, shuffle=True,  num_workers=2)\n",
    "test_loader  = DataLoader(test_dataset,  batch_size=BATCH_SIZE, shuffle=False, num_workers=2)\n",
    "\n",
    "##################################################\n",
    "# 3) Base Distribution: Standard Normal\n",
    "##################################################\n",
    "class StandardNormal:\n",
    "    \"\"\"Simple standard Normal as a base distribution.\"\"\"\n",
    "    def __init__(self, shape):\n",
    "        self.shape = shape\n",
    "    def log_prob(self, z):\n",
    "        # log p(z) = -1/2 (z^2 + log(2π)) summed over dims\n",
    "        return -0.5 * (z**2 + torch.log(torch.tensor(2.0*np.pi))).sum(dim=1)\n",
    "    def sample(self, batch_size):\n",
    "        return torch.randn(batch_size, *self.shape, device=device)\n",
    "\n",
    "##################################################\n",
    "# 4) NICE Implementation (Additive Coupling + diag scale)\n",
    "##################################################\n",
    "def _get_even(x):\n",
    "    return x[:, 0::2]\n",
    "def _get_odd(x):\n",
    "    return x[:, 1::2]\n",
    "\n",
    "def _interleave(even_part, odd_part, which_partition):\n",
    "    \"\"\"Interleave columns from two partitions for an even input_dim=64.\"\"\"\n",
    "    cols = []\n",
    "    # for 64 dims, even_part and odd_part each have 32 dims => no mismatch\n",
    "    if which_partition=='even':\n",
    "        for i in range(even_part.shape[1]):\n",
    "            cols.append(even_part[:, i])\n",
    "            cols.append(odd_part[:, i])\n",
    "    else:\n",
    "        for i in range(odd_part.shape[1]):\n",
    "            cols.append(odd_part[:, i])\n",
    "            cols.append(even_part[:, i])\n",
    "    return torch.stack(cols, dim=1)\n",
    "\n",
    "class NICECouplingLayer(nn.Module):\n",
    "    \"\"\"\n",
    "    A single additive coupling layer from NICE:\n",
    "      - 'even': x_even pass-thru, x_odd => x_odd + f(x_even)\n",
    "      - 'odd':  x_odd pass-thru, x_even => x_even + f(x_odd)\n",
    "    \"\"\"\n",
    "    def __init__(self, input_dim, partition, nn_module):\n",
    "        super().__init__()\n",
    "        assert (input_dim % 2==0), \"NICE expects an even input dimension.\"\n",
    "        self.input_dim = input_dim\n",
    "        assert partition in ['even','odd']\n",
    "        self.partition = partition\n",
    "        self.nn_module= nn_module\n",
    "\n",
    "    def forward(self, x):\n",
    "        if self.partition=='even':\n",
    "            x_even = _get_even(x)\n",
    "            x_odd  = _get_odd(x)\n",
    "            shift  = self.nn_module(x_even) # shape matches x_odd\n",
    "            y_odd  = x_odd + shift\n",
    "            y      = _interleave(x_even, y_odd, 'even')\n",
    "        else:\n",
    "            x_odd  = _get_odd(x)\n",
    "            x_even = _get_even(x)\n",
    "            shift  = self.nn_module(x_odd)\n",
    "            y_even = x_even + shift\n",
    "            y      = _interleave(y_even, x_odd, 'odd')\n",
    "        return y\n",
    "\n",
    "    def inverse(self, y):\n",
    "        with torch.no_grad():\n",
    "            if self.partition=='even':\n",
    "                y_even = _get_even(y)\n",
    "                y_odd  = _get_odd(y)\n",
    "                shift  = self.nn_module(y_even)\n",
    "                x_odd  = y_odd - shift\n",
    "                x      = _interleave(y_even, x_odd, 'even')\n",
    "            else:\n",
    "                y_odd  = _get_odd(y)\n",
    "                y_even = _get_even(y)\n",
    "                shift  = self.nn_module(y_odd)\n",
    "                x_even = y_even - shift\n",
    "                x      = _interleave(x_even, y_odd, 'odd')\n",
    "        return x\n",
    "\n",
    "def _build_relu_network(latent_dim, hidden_dim, num_layers):\n",
    "    \"\"\"A feedforward net: (Linear->ReLU) repeated => out dimension=latent_dim.\"\"\"\n",
    "    modules = []\n",
    "    modules.append(nn.Linear(latent_dim, hidden_dim))\n",
    "    modules.append(nn.ReLU())\n",
    "    for _ in range(num_layers-1):\n",
    "        modules.append(nn.Linear(hidden_dim, hidden_dim))\n",
    "        modules.append(nn.ReLU())\n",
    "    modules.append(nn.Linear(hidden_dim, latent_dim))\n",
    "    return nn.Sequential(*modules)\n",
    "\n",
    "class NICEModel(nn.Module):\n",
    "    \"\"\"\n",
    "    A NICE model with 4 additive coupling layers (alternating even/odd),\n",
    "    plus a final diagonal log-scale param.\n",
    "    For input_dim=64 => half=32 for each partition.\n",
    "    \"\"\"\n",
    "    def __init__(self, input_dim, hidden_dim=256, num_layers=5):\n",
    "        super().__init__()\n",
    "        assert (input_dim % 2==0), \"NICE requires an even input dimension.\"\n",
    "\n",
    "        half_dim= input_dim//2\n",
    "        # Build 4 couplings:\n",
    "        net1= _build_relu_network(half_dim, hidden_dim, num_layers)\n",
    "        net2= _build_relu_network(half_dim, hidden_dim, num_layers)\n",
    "        net3= _build_relu_network(half_dim, hidden_dim, num_layers)\n",
    "        net4= _build_relu_network(half_dim, hidden_dim, num_layers)\n",
    "\n",
    "        self.layer1= NICECouplingLayer(input_dim, 'even', net1)\n",
    "        self.layer2= NICECouplingLayer(input_dim, 'odd',  net2)\n",
    "        self.layer3= NICECouplingLayer(input_dim, 'even', net3)\n",
    "        self.layer4= NICECouplingLayer(input_dim, 'odd',  net4)\n",
    "\n",
    "        self.scaling_diag= nn.Parameter(torch.zeros(input_dim))\n",
    "\n",
    "    def forward(self, x):\n",
    "        y= self.layer1(x)\n",
    "        y= self.layer2(y)\n",
    "        y= self.layer3(y)\n",
    "        y= self.layer4(y)\n",
    "        # final scale\n",
    "        y= y* torch.exp(self.scaling_diag)\n",
    "        return y\n",
    "\n",
    "    def inverse(self, y):\n",
    "        with torch.no_grad():\n",
    "            scaled= y* torch.exp(-self.scaling_diag)\n",
    "            x= self.layer4.inverse(scaled)\n",
    "            x= self.layer3.inverse(x)\n",
    "            x= self.layer2.inverse(x)\n",
    "            x= self.layer1.inverse(x)\n",
    "        return x\n",
    "\n",
    "class NICEFlow(nn.Module):\n",
    "    \"\"\"\n",
    "    Wrap NICEModel with log_prob, sample, etc.\n",
    "    \"\"\"\n",
    "    def __init__(self, input_dim, hidden_dim=256, num_layers=5):\n",
    "        super().__init__()\n",
    "        self.model    = NICEModel(input_dim, hidden_dim, num_layers)\n",
    "        self.base_dist= StandardNormal((input_dim,))\n",
    "\n",
    "    def forward(self, x):\n",
    "        y= self.model(x)\n",
    "        # couplings => det=1, final diag => sum(scaling_diag)\n",
    "        log_det_val= torch.sum(self.model.scaling_diag)\n",
    "        batch_size= x.size(0)\n",
    "        log_det_jac= log_det_val* torch.ones(batch_size, device=x.device)\n",
    "        return y, log_det_jac\n",
    "\n",
    "    def log_prob(self, x):\n",
    "        y, log_det_jac= self.forward(x)\n",
    "        log_p_y= self.base_dist.log_prob(y)\n",
    "        return log_p_y+ log_det_jac\n",
    "\n",
    "    def sample(self, batch_size):\n",
    "        z= self.base_dist.sample(batch_size)\n",
    "        x= self.model.inverse(z)\n",
    "        return x\n",
    "\n",
    "\n",
    "##################################################\n",
    "# 5) RealNVP Implementation (Your Code)\n",
    "##################################################\n",
    "class CouplingLayer(nn.Module):\n",
    "    \"\"\"\n",
    "    One coupling layer in RealNVP style. We split x=[x1,x2],\n",
    "    transform x2 with affine function of x1.\n",
    "    \"\"\"\n",
    "    def __init__(self, input_dim, hidden_dim):\n",
    "        super().__init__()\n",
    "        self.D = input_dim//2\n",
    "        self.nn_scale = nn.Sequential(\n",
    "            nn.Linear(self.D, hidden_dim),\n",
    "            nn.ReLU(),\n",
    "            nn.Linear(hidden_dim, self.D)\n",
    "        )\n",
    "        self.nn_trans = nn.Sequential(\n",
    "            nn.Linear(self.D, hidden_dim),\n",
    "            nn.ReLU(),\n",
    "            nn.Linear(hidden_dim, self.D)\n",
    "        )\n",
    "\n",
    "    def forward(self, x, reverse=False):\n",
    "        x1= x[:, :self.D]\n",
    "        x2= x[:, self.D:]\n",
    "        s= self.nn_scale(x1)\n",
    "        t= self.nn_trans(x1)\n",
    "        s= torch.tanh(s)*1.5\n",
    "        if not reverse:\n",
    "            z2= x2* torch.exp(s)+ t\n",
    "            z = torch.cat([x1,z2], dim=1)\n",
    "            log_det_jac= s.sum(dim=1)\n",
    "        else:\n",
    "            z2= (x2- t)* torch.exp(-s)\n",
    "            z = torch.cat([x1,z2], dim=1)\n",
    "            log_det_jac= -s.sum(dim=1)\n",
    "        return z, log_det_jac\n",
    "\n",
    "class RealNVPFlow(nn.Module):\n",
    "    \"\"\"\n",
    "    RealNVP with multiple coupling layers.\n",
    "    \"\"\"\n",
    "    def __init__(self, input_dim, hidden_dim=128, num_flows=4):\n",
    "        super().__init__()\n",
    "        self.layers= nn.ModuleList([\n",
    "            CouplingLayer(input_dim, hidden_dim) for _ in range(num_flows)\n",
    "        ])\n",
    "        self.base_dist= StandardNormal((input_dim,))\n",
    "\n",
    "    def forward(self, x):\n",
    "        log_det=0.\n",
    "        z= x\n",
    "        for layer in self.layers:\n",
    "            z, ld= layer(z, reverse=False)\n",
    "            log_det+= ld\n",
    "        return z, log_det\n",
    "\n",
    "    def inverse(self, z):\n",
    "        log_det=0.\n",
    "        x= z\n",
    "        for layer in reversed(self.layers):\n",
    "            x, ld= layer(x, reverse=True)\n",
    "            log_det+= ld\n",
    "        return x, log_det\n",
    "\n",
    "    def log_prob(self, x):\n",
    "        z, log_det= self.forward(x)\n",
    "        log_p_z= self.base_dist.log_prob(z)\n",
    "        return log_p_z+ log_det\n",
    "\n",
    "    def sample(self, batch_size):\n",
    "        z= self.base_dist.sample(batch_size)\n",
    "        x,_= self.inverse(z)\n",
    "        return x\n",
    "\n",
    "##################################################\n",
    "# 6) MAF Implementation (Your Code)\n",
    "##################################################\n",
    "class MaskedLinear(nn.Module):\n",
    "    \"\"\"A linear layer that applies a mask (for autoregressive connections).\"\"\"\n",
    "    def __init__(self, in_features, out_features):\n",
    "        super().__init__()\n",
    "        self.linear= nn.Linear(in_features, out_features)\n",
    "        self.register_buffer('mask', torch.ones(out_features, in_features))\n",
    "    def set_mask(self, mask):\n",
    "        self.mask= mask\n",
    "    def forward(self, x):\n",
    "        return F.linear(x, self.linear.weight*self.mask, self.linear.bias)\n",
    "\n",
    "class AutoregressiveBlock(nn.Module):\n",
    "    \"\"\"\n",
    "    One MAF block: z= x*exp(s)+ t, \n",
    "    where s,t are predicted by a masked net from x.\n",
    "    \"\"\"\n",
    "    def __init__(self, input_dim, hidden_dim):\n",
    "        super().__init__()\n",
    "        self.net= nn.Sequential(\n",
    "            MaskedLinear(input_dim, hidden_dim),\n",
    "            nn.ReLU(),\n",
    "            MaskedLinear(hidden_dim, hidden_dim),\n",
    "            nn.ReLU(),\n",
    "            MaskedLinear(hidden_dim, 2* input_dim)\n",
    "        )\n",
    "    def forward(self, x, reverse=False):\n",
    "        if not reverse:\n",
    "            out= self.net(x)\n",
    "            s,t= out.chunk(2,dim=1)\n",
    "            s= torch.tanh(s)*1.5\n",
    "            z= x* torch.exp(s)+ t\n",
    "            log_det_jac= s.sum(dim=1)\n",
    "            return z, log_det_jac\n",
    "        else:\n",
    "            x_inv= torch.zeros_like(x)\n",
    "            log_det_jac= torch.zeros(x.size(0), device=x.device)\n",
    "            for i in range(x.size(1)):\n",
    "                out= self.net(x_inv)\n",
    "                s,t= out.chunk(2,dim=1)\n",
    "                si= s[:, i].unsqueeze(1)\n",
    "                ti= t[:, i].unsqueeze(1)\n",
    "                x_inv[:, i]= (x[:, i]- ti.squeeze(1))* torch.exp(-si.squeeze(1))\n",
    "                log_det_jac+= -si.squeeze(1)\n",
    "            return x_inv, log_det_jac\n",
    "\n",
    "class MAF(nn.Module):\n",
    "    \"\"\"MAF with multiple AutoregressiveBlocks.\"\"\"\n",
    "    def __init__(self, input_dim, hidden_dim=128, num_flows=4):\n",
    "        super().__init__()\n",
    "        self.blocks= nn.ModuleList([\n",
    "            AutoregressiveBlock(input_dim, hidden_dim) for _ in range(num_flows)\n",
    "        ])\n",
    "        self.base_dist= StandardNormal((input_dim,))\n",
    "        self.input_dim= input_dim\n",
    "        self._make_autoregressive_masks()\n",
    "\n",
    "    def _make_autoregressive_masks(self):\n",
    "        layers_per_block=3  # in your code => 3 MaskedLinears per block net\n",
    "        for block in self.blocks:\n",
    "            layers= [l for l in block.net if isinstance(l, MaskedLinear)]\n",
    "            D= self.input_dim\n",
    "            def create_mask(in_feats, out_feats, order_in, order_out):\n",
    "                mask= torch.zeros(out_feats, in_feats)\n",
    "                for j in range(out_feats):\n",
    "                    for i in range(in_feats):\n",
    "                        if order_in[i]< order_out[j]:\n",
    "                            mask[j,i]=1\n",
    "                return mask\n",
    "            order_input= list(range(D))\n",
    "            ml1= layers[0]\n",
    "            out_feats1= ml1.linear.out_features\n",
    "            order_h1= np.random.randint(1,D,size= out_feats1)\n",
    "            order_h1= np.clip(order_h1,1,D-1)\n",
    "            order_h1= sorted(order_h1)\n",
    "            mask1= create_mask(D,out_feats1,order_input,order_h1)\n",
    "            ml1.set_mask(mask1)\n",
    "\n",
    "            ml2= layers[1]\n",
    "            out_feats2= ml2.linear.out_features\n",
    "            order_h2= np.random.randint(1,D,size= out_feats2)\n",
    "            order_h2= np.clip(order_h2,1,D-1)\n",
    "            order_h2= sorted(order_h2)\n",
    "            mask2= create_mask(out_feats1, out_feats2, order_h1, order_h2)\n",
    "            ml2.set_mask(mask2)\n",
    "\n",
    "            ml3= layers[2]\n",
    "            out_feats3= ml3.linear.out_features\n",
    "            order_out= np.array([i% D for i in range(out_feats3)])\n",
    "            mask3= create_mask(out_feats2, out_feats3, order_h2, order_out)\n",
    "            ml3.set_mask(mask3)\n",
    "\n",
    "    def forward(self, x):\n",
    "        log_det=0.\n",
    "        z= x\n",
    "        for block in self.blocks:\n",
    "            z, ld= block(z, reverse=False)\n",
    "            log_det+= ld\n",
    "        return z, log_det\n",
    "\n",
    "    def inverse(self, z):\n",
    "        x= z\n",
    "        log_det=0.\n",
    "        for block in reversed(self.blocks):\n",
    "            x, ld= block(x, reverse=True)\n",
    "            log_det+= ld\n",
    "        return x, log_det\n",
    "\n",
    "    def log_prob(self, x):\n",
    "        z, log_det= self.forward(x)\n",
    "        log_p_z= self.base_dist.log_prob(z)\n",
    "        return log_p_z+ log_det\n",
    "\n",
    "    def sample(self, batch_size):\n",
    "        z= self.base_dist.sample(batch_size)\n",
    "        x,_= self.inverse(z)\n",
    "        return x\n",
    "\n",
    "##################################################\n",
    "# 7) Training & Evaluation\n",
    "##################################################\n",
    "def train_flow(model, train_loader, optimizer, epochs=10):\n",
    "    model.train()\n",
    "    for epoch in range(epochs):\n",
    "        total_loss= 0.0\n",
    "        for (data,_) in tqdm(train_loader, desc=f\"Epoch {epoch+1}/{epochs}\"):\n",
    "            data= data.view(data.size(0), -1).to(device)\n",
    "            optimizer.zero_grad()\n",
    "            log_p= model.log_prob(data)\n",
    "            loss= -log_p.mean()\n",
    "            loss.backward()\n",
    "            optimizer.step()\n",
    "            total_loss+= loss.item()* data.size(0)\n",
    "        avg_loss= total_loss/ len(train_loader.dataset)\n",
    "        print(f\"[Epoch {epoch+1}] avg NLL= {avg_loss:.4f}\")\n",
    "\n",
    "@torch.no_grad()\n",
    "def evaluate_flow(model, test_loader):\n",
    "    model.eval()\n",
    "    total_log_prob= 0.0\n",
    "    for (data,_) in test_loader:\n",
    "        data= data.view(data.size(0), -1).to(device)\n",
    "        lp= model.log_prob(data)\n",
    "        total_log_prob+= lp.sum().item()\n",
    "    avg_log_prob= total_log_prob/ len(test_loader.dataset)\n",
    "    return avg_log_prob\n",
    "\n",
    "def plot_samples(model, n=8, title=\"Samples\"):\n",
    "    model.eval()\n",
    "    with torch.no_grad():\n",
    "        samples= model.sample(n*n).cpu().numpy()\n",
    "    # reshape to 8×8\n",
    "    samples= samples.reshape(-1, IMG_SIZE, IMG_SIZE)\n",
    "    fig,axes= plt.subplots(n,n, figsize=(8,8))\n",
    "    idx=0\n",
    "    for i in range(n):\n",
    "        for j in range(n):\n",
    "            axes[i,j].imshow(samples[idx], cmap='gray')\n",
    "            axes[i,j].axis('off')\n",
    "            idx+=1\n",
    "    plt.suptitle(title)\n",
    "    plt.tight_layout()\n",
    "    plt.show()\n",
    "\n",
    "##################################################\n",
    "# 8) Main\n",
    "##################################################\n",
    "if __name__==\"__main__\":\n",
    "    # 1) NICE Flow\n",
    "    nice_flow= NICEFlow(input_dim=INPUT_DIM, hidden_dim=256, num_layers=5).to(device)\n",
    "    opt_nice= torch.optim.Adam(nice_flow.parameters(), lr=LR)\n",
    "\n",
    "    print(\"\\n=== Training NICE flow (8×8 MNIST) ===\")\n",
    "    train_flow(nice_flow, train_loader, opt_nice, epochs=EPOCHS)\n",
    "    test_ll_nice= evaluate_flow(nice_flow, test_loader)\n",
    "    print(f\"NICE: Test avg log-likelihood= {test_ll_nice:.4f}\")\n",
    "    plot_samples(nice_flow, n=8, title=\"NICE Samples\")\n",
    "\n",
    "    # 2) RealNVP\n",
    "    rnvp_flow= RealNVPFlow(input_dim=INPUT_DIM, hidden_dim=256, num_flows=4).to(device)\n",
    "    opt_rnvp= torch.optim.Adam(rnvp_flow.parameters(), lr=LR)\n",
    "\n",
    "    print(\"\\n=== Training RealNVP flow (8×8 MNIST) ===\")\n",
    "    train_flow(rnvp_flow, train_loader, opt_rnvp, epochs=EPOCHS)\n",
    "    test_ll_rnvp= evaluate_flow(rnvp_flow, test_loader)\n",
    "    print(f\"RealNVP: Test avg log-likelihood= {test_ll_rnvp:.4f}\")\n",
    "    plot_samples(rnvp_flow, n=8, title=\"RealNVP Samples\")\n",
    "\n",
    "    # 3) MAF\n",
    "    maf_flow= MAF(input_dim=INPUT_DIM, hidden_dim=256, num_flows=4).to(device)\n",
    "    opt_maf= torch.optim.Adam(maf_flow.parameters(), lr=LR)\n",
    "\n",
    "    print(\"\\n=== Training MAF flow (8×8 MNIST) ===\")\n",
    "    train_flow(maf_flow, train_loader, opt_maf, epochs=EPOCHS)\n",
    "    test_ll_maf= evaluate_flow(maf_flow, test_loader)\n",
    "    print(f\"MAF: Test avg log-likelihood= {test_ll_maf:.4f}\")\n",
    "    plot_samples(maf_flow, n=8, title=\"MAF Samples\")\n"
   ]
  }
 ],
 "metadata": {
  "kernelspec": {
   "display_name": "deeplearning",
   "language": "python",
   "name": "python3"
  },
  "language_info": {
   "codemirror_mode": {
    "name": "ipython",
    "version": 3
   },
   "file_extension": ".py",
   "mimetype": "text/x-python",
   "name": "python",
   "nbconvert_exporter": "python",
   "pygments_lexer": "ipython3",
   "version": "3.10.16"
  }
 },
 "nbformat": 4,
 "nbformat_minor": 2
}
