{
 "cells": [
  {
   "cell_type": "code",
   "execution_count": 1,
   "metadata": {},
   "outputs": [
    {
     "name": "stdout",
     "output_type": "stream",
     "text": [
      "Using device : mps\n"
     ]
    }
   ],
   "source": [
    "import torch\n",
    "import torch.nn as nn\n",
    "import torch.optim as optim\n",
    "import torch.nn.functional as F\n",
    "from torch.utils.data import DataLoader\n",
    "from torchvision import datasets, transforms\n",
    "import matplotlib.pyplot as plt\n",
    "import numpy as np\n",
    "from tqdm import tqdm\n",
    "\n",
    " \n",
    "\n",
    " \n",
    "device = torch.device('cuda' if torch.cuda.is_available() \n",
    "                      else 'mps' if torch.backends.mps.is_available() \n",
    "                      else 'cpu')\n",
    "print(\"Using device :\", device)\n",
    "\n",
    " \n",
    "transform_8x8 = transforms.Compose([\n",
    "    transforms.Resize((8,8)),   \n",
    "    transforms.ToTensor()\n",
    "])\n",
    "\n",
    "batch_size = 128\n",
    "\n",
    "train_dataset = datasets.MNIST(\n",
    "    root='mnist_data', train=True, download=True, transform=transform_8x8\n",
    ")\n",
    "test_dataset = datasets.MNIST(\n",
    "    root='mnist_data', train=False, download=True, transform=transform_8x8\n",
    ")\n",
    "\n",
    "train_loader = DataLoader(train_dataset, batch_size=batch_size, shuffle=True, num_workers=2)\n",
    "test_loader  = DataLoader(test_dataset,  batch_size=batch_size, shuffle=False, num_workers=2)\n",
    "\n",
    "# MNIST is grayscale, so each image is now (1, 8, 8). We'll flatten to 64.\n",
    "input_dim = 8 * 8  # =64\n",
    "\n",
    " "
   ]
  },
  {
   "cell_type": "code",
   "execution_count": 2,
   "metadata": {},
   "outputs": [],
   "source": [
    "\n",
    "# Base Distribution: Standard Normal\n",
    " \n",
    "class StandardNormal:\n",
    "    \"\"\"Simple standard Normal as a base distribution.\"\"\"\n",
    "    def __init__(self, shape):\n",
    "        self.shape = shape\n",
    "\n",
    "    def log_prob(self, z):\n",
    "        # log p(z) = -1/2 (z^2 + log(2π)) summed over dims\n",
    "        return -0.5 * (z**2 + torch.log(torch.tensor(2.0*np.pi))).sum(dim=1)\n",
    "\n",
    "    def sample(self, batch_size):\n",
    "        return torch.randn(batch_size, *self.shape).to(device)\n",
    "\n",
    " \n",
    "#  Coupling Flow (RealNVP-like)\n",
    " \n",
    "class CouplingLayer(nn.Module):\n",
    "    \"\"\"\n",
    "    One coupling layer in RealNVP style. \n",
    "    We split the input: x = [x1, x2].\n",
    "    Transform x2 with an affine function of x1.\n",
    "    \"\"\"\n",
    "    def __init__(self, input_dim, hidden_dim):\n",
    "        super().__init__()\n",
    "        self.D = input_dim // 2\n",
    "\n",
    "        self.nn_scale = nn.Sequential(\n",
    "            nn.Linear(self.D, hidden_dim),\n",
    "            nn.ReLU(),\n",
    "            nn.Linear(hidden_dim, self.D)\n",
    "        )\n",
    "        self.nn_trans = nn.Sequential(\n",
    "            nn.Linear(self.D, hidden_dim),\n",
    "            nn.ReLU(),\n",
    "            nn.Linear(hidden_dim, self.D)\n",
    "        )\n",
    "\n",
    "    def forward(self, x, reverse=False):\n",
    "        x1 = x[:, :self.D]\n",
    "        x2 = x[:, self.D:]\n",
    "\n",
    "        s = self.nn_scale(x1)\n",
    "        t = self.nn_trans(x1)\n",
    "        s = torch.tanh(s) * 1.5  # clamp scale for stability\n",
    "\n",
    "        if not reverse:\n",
    "            # Forward: x2 -> z2\n",
    "            z2 = x2 * torch.exp(s) + t\n",
    "            z = torch.cat([x1, z2], dim=1)\n",
    "            log_det_jac = s.sum(dim=1)\n",
    "        else:\n",
    "            # Inverse: z2 -> x2\n",
    "            z2 = (x2 - t) * torch.exp(-s)\n",
    "            z = torch.cat([x1, z2], dim=1)\n",
    "            log_det_jac = -s.sum(dim=1)\n",
    "\n",
    "        return z, log_det_jac\n",
    "\n",
    "\n",
    "class RealNVP(nn.Module):\n",
    "    \"\"\"Chain multiple RealNVP coupling layers.\"\"\"\n",
    "    def __init__(self, input_dim, hidden_dim=128, num_flows=4):\n",
    "        super().__init__()\n",
    "        self.layers = nn.ModuleList([\n",
    "            CouplingLayer(input_dim, hidden_dim) for _ in range(num_flows)\n",
    "        ])\n",
    "        self.base_dist = StandardNormal((input_dim,))\n",
    "\n",
    "    def forward(self, x):\n",
    "        \"\"\"x -> z, accumulate log|det|.\"\"\"\n",
    "        log_det = 0.0\n",
    "        z = x\n",
    "        for layer in self.layers:\n",
    "            z, ld = layer(z, reverse=False)\n",
    "            log_det += ld\n",
    "        return z, log_det\n",
    "\n",
    "    def inverse(self, z):\n",
    "        \"\"\"z -> x, accumulate log|det| of inverse.\"\"\"\n",
    "        log_det = 0.0\n",
    "        x = z\n",
    "        for layer in reversed(self.layers):\n",
    "            x, ld = layer(x, reverse=True)\n",
    "            log_det += ld\n",
    "        return x, log_det\n",
    "\n",
    "    def log_prob(self, x):\n",
    "        \"\"\"log p(x) = log p(z) + log|det(dz/dx)|.\"\"\"\n",
    "        z, log_det = self.forward(x)\n",
    "        log_p_z = self.base_dist.log_prob(z)\n",
    "        return log_p_z + log_det\n",
    "\n",
    "    def sample(self, batch_size):\n",
    "        \"\"\"Sample by drawing z and inverting.\"\"\"\n",
    "        z = self.base_dist.sample(batch_size)\n",
    "        x, _ = self.inverse(z)\n",
    "        return x\n",
    "\n",
    " \n",
    "# Autoregressive Flow (MAF-like)\n",
    " \n",
    "class MaskedLinear(nn.Module):\n",
    "    \"\"\"A linear layer that applies a mask (for autoregressive connections).\"\"\"\n",
    "    def __init__(self, in_features, out_features):\n",
    "        super().__init__()\n",
    "        self.linear = nn.Linear(in_features, out_features)\n",
    "        self.register_buffer('mask', torch.ones(out_features, in_features))\n",
    "\n",
    "    def set_mask(self, mask):\n",
    "        self.mask = mask\n",
    "\n",
    "    def forward(self, x):\n",
    "        return F.linear(x, self.linear.weight * self.mask, self.linear.bias)\n",
    "\n",
    "\n",
    "class AutoregressiveBlock(nn.Module):\n",
    "    \"\"\"\n",
    "    One MAF block:\n",
    "    z = x * exp(s) + t,\n",
    "    where s,t are predicted by a masked network from x.\n",
    "    \"\"\"\n",
    "    def __init__(self, input_dim, hidden_dim):\n",
    "        super().__init__()\n",
    "        self.net = nn.Sequential(\n",
    "            MaskedLinear(input_dim, hidden_dim),\n",
    "            nn.ReLU(),\n",
    "            MaskedLinear(hidden_dim, hidden_dim),\n",
    "            nn.ReLU(),\n",
    "            MaskedLinear(hidden_dim, 2 * input_dim)\n",
    "        )\n",
    "\n",
    "    def forward(self, x, reverse=False):\n",
    "        if not reverse:\n",
    "            out = self.net(x)\n",
    "            s, t = out.chunk(2, dim=1)\n",
    "            s = torch.tanh(s) * 1.5\n",
    "            z = x * torch.exp(s) + t\n",
    "            log_det_jac = s.sum(dim=1)\n",
    "            return z, log_det_jac\n",
    "        else:\n",
    "            # Inverse pass (z -> x) dimension by dimension\n",
    "            x_inv = torch.zeros_like(x)\n",
    "            log_det_jac = torch.zeros(x.size(0), device=device)\n",
    "            for i in range(x.size(1)):\n",
    "                out = self.net(x_inv)\n",
    "                s, t = out.chunk(2, dim=1)\n",
    "                si = s[:, i].unsqueeze(1)\n",
    "                ti = t[:, i].unsqueeze(1)\n",
    "                x_inv[:, i] = (x[:, i] - ti.squeeze(1)) * torch.exp(-si.squeeze(1))\n",
    "                log_det_jac += -si.squeeze(1)\n",
    "            return x_inv, log_det_jac\n",
    "\n",
    "\n",
    "class MAF(nn.Module):\n",
    "    \"\"\"A Masked Autoregressive Flow using multiple autoregressive blocks.\"\"\"\n",
    "    def __init__(self, input_dim, hidden_dim=128, num_flows=4):\n",
    "        super().__init__()\n",
    "        self.blocks = nn.ModuleList([\n",
    "            AutoregressiveBlock(input_dim, hidden_dim) for _ in range(num_flows)\n",
    "        ])\n",
    "        self.input_dim = input_dim\n",
    "        self.base_dist = StandardNormal((input_dim,))\n",
    "\n",
    "        # Build the masks to ensure autoregressive property\n",
    "        for block in self.blocks:\n",
    "            self._make_autoregressive_masks(block, input_dim, hidden_dim)\n",
    "\n",
    "    def _make_autoregressive_masks(self, block, input_dim, hidden_dim):\n",
    "        \"\"\"\n",
    "        Minimal example of creating a lower-triangular mask for each MaskedLinear\n",
    "        to achieve the autoregressive property (MADE-like).\n",
    "        \"\"\"\n",
    "        layers = [l for l in block.net if isinstance(l, MaskedLinear)]\n",
    "        D = input_dim\n",
    "\n",
    "        def create_mask(in_feats, out_feats, order_in, order_out):\n",
    "            mask = torch.zeros(out_feats, in_feats)\n",
    "            for j in range(out_feats):\n",
    "                for i in range(in_feats):\n",
    "                    if order_in[i] < order_out[j]:\n",
    "                        mask[j, i] = 1\n",
    "            return mask\n",
    "\n",
    "        order_input = list(range(D))\n",
    "        # first masked linear\n",
    "        ml1 = layers[0]\n",
    "        out_feats1 = ml1.linear.out_features\n",
    "        order_h1 = np.random.randint(1, D, size=out_feats1)\n",
    "        order_h1 = np.clip(order_h1, 1, D-1)\n",
    "        order_h1 = sorted(order_h1)\n",
    "        mask1 = create_mask(D, out_feats1, order_input, order_h1)\n",
    "        ml1.set_mask(mask1)\n",
    "\n",
    "        # second masked linear\n",
    "        ml2 = layers[1]\n",
    "        out_feats2 = ml2.linear.out_features\n",
    "        order_h2 = np.random.randint(1, D, size=out_feats2)\n",
    "        order_h2 = np.clip(order_h2, 1, D-1)\n",
    "        order_h2 = sorted(order_h2)\n",
    "        mask2 = create_mask(out_feats1, out_feats2, order_h1, order_h2)\n",
    "        ml2.set_mask(mask2)\n",
    "\n",
    "        # final masked linear\n",
    "        ml3 = layers[2]\n",
    "        out_feats3 = ml3.linear.out_features\n",
    "        # e.g. 2*D => each dimension for s,t\n",
    "        order_out = np.array([i % D for i in range(out_feats3)])\n",
    "        mask3 = create_mask(out_feats2, out_feats3, order_h2, order_out)\n",
    "        ml3.set_mask(mask3)\n",
    "\n",
    "    def forward(self, x):\n",
    "        log_det = 0.0\n",
    "        z = x\n",
    "        for block in self.blocks:\n",
    "            z, ld = block(z, reverse=False)\n",
    "            log_det += ld\n",
    "        return z, log_det\n",
    "\n",
    "    def inverse(self, z):\n",
    "        log_det = 0.0\n",
    "        x = z\n",
    "        for block in reversed(self.blocks):\n",
    "            x, ld = block(x, reverse=True)\n",
    "            log_det += ld\n",
    "        return x, log_det\n",
    "\n",
    "    def log_prob(self, x):\n",
    "        z, log_det = self.forward(x)\n",
    "        log_p_z = self.base_dist.log_prob(z)\n",
    "        return log_p_z + log_det\n",
    "\n",
    "    def sample(self, batch_size):\n",
    "        z = self.base_dist.sample(batch_size)\n",
    "        x, _ = self.inverse(z)\n",
    "        return x\n",
    "\n"
   ]
  },
  {
   "cell_type": "code",
   "execution_count": 3,
   "metadata": {},
   "outputs": [],
   "source": [
    "\n",
    " \n",
    "def train_flow(model, train_loader, optimizer, epochs=10):\n",
    "    model.train()\n",
    "    for epoch in range(epochs):\n",
    "        running_loss = 0.0\n",
    "        for (data, _) in tqdm(train_loader, desc=f\"Epoch {epoch+1}/{epochs}\"):\n",
    "            # flatten each image to 64-dim\n",
    "            data = data.view(data.size(0), -1).to(device)\n",
    "            optimizer.zero_grad()\n",
    "            log_p = model.log_prob(data)  # log-likelihood\n",
    "            loss = -log_p.mean()         # want to *maximize* log-likelihood\n",
    "            loss.backward()\n",
    "            optimizer.step()\n",
    "            running_loss += loss.item() * data.size(0)\n",
    "\n",
    "        avg_loss = running_loss / len(train_loader.dataset)\n",
    "        print(f\"[Epoch {epoch+1}] avg NLL = {avg_loss:.4f}\")\n",
    "\n",
    "def evaluate_flow(model, test_loader):\n",
    "    model.eval()\n",
    "    total_log_prob = 0.0\n",
    "    with torch.no_grad():\n",
    "        for (data, _) in test_loader:\n",
    "            data = data.view(data.size(0), -1).to(device)\n",
    "            log_prob = model.log_prob(data)\n",
    "            total_log_prob += log_prob.sum().item()\n",
    "    avg_log_prob = total_log_prob / len(test_loader.dataset)\n",
    "    return avg_log_prob\n",
    "\n",
    "def plot_samples(model, n=8, title=\"Samples\"):\n",
    "    model.eval()\n",
    "    with torch.no_grad():\n",
    "        samples = model.sample(n*n).cpu().numpy()\n",
    "    # reshape to 8x8\n",
    "    samples = samples.reshape(-1, 8, 8)\n",
    "    \n",
    "    fig, axes = plt.subplots(n, n, figsize=(8, 8))\n",
    "    idx = 0\n",
    "    for i in range(n):\n",
    "        for j in range(n):\n",
    "            axes[i, j].imshow(samples[idx], cmap='gray')\n",
    "            axes[i, j].axis('off')\n",
    "            idx += 1\n",
    "    plt.suptitle(title)\n",
    "    plt.tight_layout()\n",
    "    plt.show()\n"
   ]
  },
  {
   "cell_type": "code",
   "execution_count": 4,
   "metadata": {},
   "outputs": [
    {
     "name": "stdout",
     "output_type": "stream",
     "text": [
      "\n",
      "Training RealNVP flow...\n"
     ]
    },
    {
     "name": "stderr",
     "output_type": "stream",
     "text": [
      "Epoch 1/10: 100%|██████████| 469/469 [00:06<00:00, 70.52it/s] \n"
     ]
    },
    {
     "name": "stdout",
     "output_type": "stream",
     "text": [
      "[Epoch 1] avg NLL = -26.0077\n"
     ]
    },
    {
     "name": "stderr",
     "output_type": "stream",
     "text": [
      "Epoch 2/10: 100%|██████████| 469/469 [00:06<00:00, 77.24it/s] \n"
     ]
    },
    {
     "name": "stdout",
     "output_type": "stream",
     "text": [
      "[Epoch 2] avg NLL = -36.1761\n"
     ]
    },
    {
     "name": "stderr",
     "output_type": "stream",
     "text": [
      "Epoch 3/10: 100%|██████████| 469/469 [00:05<00:00, 78.33it/s] \n"
     ]
    },
    {
     "name": "stdout",
     "output_type": "stream",
     "text": [
      "[Epoch 3] avg NLL = -38.5737\n"
     ]
    },
    {
     "name": "stderr",
     "output_type": "stream",
     "text": [
      "Epoch 4/10: 100%|██████████| 469/469 [00:06<00:00, 74.89it/s] \n"
     ]
    },
    {
     "name": "stdout",
     "output_type": "stream",
     "text": [
      "[Epoch 4] avg NLL = -40.0717\n"
     ]
    },
    {
     "name": "stderr",
     "output_type": "stream",
     "text": [
      "Epoch 5/10: 100%|██████████| 469/469 [00:06<00:00, 75.40it/s] \n"
     ]
    },
    {
     "name": "stdout",
     "output_type": "stream",
     "text": [
      "[Epoch 5] avg NLL = -41.0930\n"
     ]
    },
    {
     "name": "stderr",
     "output_type": "stream",
     "text": [
      "Epoch 6/10: 100%|██████████| 469/469 [00:06<00:00, 76.65it/s] \n"
     ]
    },
    {
     "name": "stdout",
     "output_type": "stream",
     "text": [
      "[Epoch 6] avg NLL = -41.9719\n"
     ]
    },
    {
     "name": "stderr",
     "output_type": "stream",
     "text": [
      "Epoch 7/10: 100%|██████████| 469/469 [00:06<00:00, 77.61it/s] \n"
     ]
    },
    {
     "name": "stdout",
     "output_type": "stream",
     "text": [
      "[Epoch 7] avg NLL = -42.6183\n"
     ]
    },
    {
     "name": "stderr",
     "output_type": "stream",
     "text": [
      "Epoch 8/10: 100%|██████████| 469/469 [00:05<00:00, 78.31it/s] \n"
     ]
    },
    {
     "name": "stdout",
     "output_type": "stream",
     "text": [
      "[Epoch 8] avg NLL = -43.3174\n"
     ]
    },
    {
     "name": "stderr",
     "output_type": "stream",
     "text": [
      "Epoch 9/10: 100%|██████████| 469/469 [00:06<00:00, 76.22it/s] \n"
     ]
    },
    {
     "name": "stdout",
     "output_type": "stream",
     "text": [
      "[Epoch 9] avg NLL = -43.7498\n"
     ]
    },
    {
     "name": "stderr",
     "output_type": "stream",
     "text": [
      "Epoch 10/10: 100%|██████████| 469/469 [00:06<00:00, 69.89it/s] "
     ]
    },
    {
     "name": "stdout",
     "output_type": "stream",
     "text": [
      "[Epoch 10] avg NLL = -44.2093\n"
     ]
    },
    {
     "name": "stderr",
     "output_type": "stream",
     "text": [
      "\n"
     ]
    },
    {
     "name": "stdout",
     "output_type": "stream",
     "text": [
      "RealNVP: Test avg log-likelihood = 42.0335\n"
     ]
    },
    {
     "data": {
      "image/png": "[encoded data removed]",
      "text/plain": [
       "<Figure size 800x800 with 64 Axes>"
      ]
     },
     "metadata": {},
     "output_type": "display_data"
    },
    {
     "name": "stdout",
     "output_type": "stream",
     "text": [
      "\n",
      "Training MAF flow...\n"
     ]
    },
    {
     "name": "stderr",
     "output_type": "stream",
     "text": [
      "Epoch 1/10: 100%|██████████| 469/469 [00:06<00:00, 75.34it/s] \n"
     ]
    },
    {
     "name": "stdout",
     "output_type": "stream",
     "text": [
      "[Epoch 1] avg NLL = -92.9314\n"
     ]
    },
    {
     "name": "stderr",
     "output_type": "stream",
     "text": [
      "Epoch 2/10: 100%|██████████| 469/469 [00:05<00:00, 85.05it/s] \n"
     ]
    },
    {
     "name": "stdout",
     "output_type": "stream",
     "text": [
      "[Epoch 2] avg NLL = -134.7660\n"
     ]
    },
    {
     "name": "stderr",
     "output_type": "stream",
     "text": [
      "Epoch 3/10: 100%|██████████| 469/469 [00:05<00:00, 89.71it/s] \n"
     ]
    },
    {
     "name": "stdout",
     "output_type": "stream",
     "text": [
      "[Epoch 3] avg NLL = -144.4282\n"
     ]
    },
    {
     "name": "stderr",
     "output_type": "stream",
     "text": [
      "Epoch 4/10: 100%|██████████| 469/469 [00:05<00:00, 84.10it/s] \n"
     ]
    },
    {
     "name": "stdout",
     "output_type": "stream",
     "text": [
      "[Epoch 4] avg NLL = -149.0691\n"
     ]
    },
    {
     "name": "stderr",
     "output_type": "stream",
     "text": [
      "Epoch 5/10: 100%|██████████| 469/469 [00:05<00:00, 84.96it/s] \n"
     ]
    },
    {
     "name": "stdout",
     "output_type": "stream",
     "text": [
      "[Epoch 5] avg NLL = -152.2092\n"
     ]
    },
    {
     "name": "stderr",
     "output_type": "stream",
     "text": [
      "Epoch 6/10: 100%|██████████| 469/469 [00:05<00:00, 87.76it/s] \n"
     ]
    },
    {
     "name": "stdout",
     "output_type": "stream",
     "text": [
      "[Epoch 6] avg NLL = -154.2167\n"
     ]
    },
    {
     "name": "stderr",
     "output_type": "stream",
     "text": [
      "Epoch 7/10: 100%|██████████| 469/469 [00:05<00:00, 89.22it/s] \n"
     ]
    },
    {
     "name": "stdout",
     "output_type": "stream",
     "text": [
      "[Epoch 7] avg NLL = -155.9313\n"
     ]
    },
    {
     "name": "stderr",
     "output_type": "stream",
     "text": [
      "Epoch 8/10: 100%|██████████| 469/469 [00:05<00:00, 88.41it/s] \n"
     ]
    },
    {
     "name": "stdout",
     "output_type": "stream",
     "text": [
      "[Epoch 8] avg NLL = -157.2789\n"
     ]
    },
    {
     "name": "stderr",
     "output_type": "stream",
     "text": [
      "Epoch 9/10: 100%|██████████| 469/469 [00:05<00:00, 89.78it/s] \n"
     ]
    },
    {
     "name": "stdout",
     "output_type": "stream",
     "text": [
      "[Epoch 9] avg NLL = -158.5485\n"
     ]
    },
    {
     "name": "stderr",
     "output_type": "stream",
     "text": [
      "Epoch 10/10: 100%|██████████| 469/469 [00:05<00:00, 88.07it/s] "
     ]
    },
    {
     "name": "stdout",
     "output_type": "stream",
     "text": [
      "[Epoch 10] avg NLL = -159.2995\n"
     ]
    },
    {
     "name": "stderr",
     "output_type": "stream",
     "text": [
      "\n"
     ]
    },
    {
     "name": "stdout",
     "output_type": "stream",
     "text": [
      "MAF: Test avg log-likelihood = 156.8187\n"
     ]
    },
    {
     "data": {
      "image/png": "[encoded data removed]",
      "text/plain": [
       "<Figure size 800x800 with 64 Axes>"
      ]
     },
     "metadata": {},
     "output_type": "display_data"
    }
   ],
   "source": [
    "\n",
    "\n",
    "realnvp_model = RealNVP(input_dim=input_dim, hidden_dim=256, num_flows=4).to(device)\n",
    "optimizer_rnvp = optim.Adam(realnvp_model.parameters(), lr=1e-3)\n",
    "print(\"\\nTraining RealNVP flow...\")\n",
    "train_flow(realnvp_model, train_loader, optimizer_rnvp, epochs=10)\n",
    "test_log_prob_rnvp = evaluate_flow(realnvp_model, test_loader)\n",
    "print(f\"RealNVP: Test avg log-likelihood = {test_log_prob_rnvp:.4f}\")\n",
    "plot_samples(realnvp_model, n=8, title=\"RealNVP Samples\")\n",
    "\n",
    "maf_model = MAF(input_dim=input_dim, hidden_dim=256, num_flows=4).to(device)\n",
    "optimizer_maf = optim.Adam(maf_model.parameters(), lr=1e-3)\n",
    "print(\"\\nTraining MAF flow...\")\n",
    "train_flow(maf_model, train_loader, optimizer_maf, epochs=10)\n",
    "test_log_prob_maf = evaluate_flow(maf_model, test_loader)\n",
    "print(f\"MAF: Test avg log-likelihood = {test_log_prob_maf:.4f}\")\n",
    "plot_samples(maf_model, n=8, title=\"MAF Samples\")\n"
   ]
  }
 ],
 "metadata": {
  "kernelspec": {
   "display_name": "deeplearning",
   "language": "python",
   "name": "python3"
  },
  "language_info": {
   "codemirror_mode": {
    "name": "ipython",
    "version": 3
   },
   "file_extension": ".py",
   "mimetype": "text/x-python",
   "name": "python",
   "nbconvert_exporter": "python",
   "pygments_lexer": "ipython3",
   "version": "3.10.16"
  }
 },
 "nbformat": 4,
 "nbformat_minor": 2
}
